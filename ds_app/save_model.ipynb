{
 "cells": [
  {
   "cell_type": "code",
   "execution_count": 10,
   "metadata": {},
   "outputs": [],
   "source": [
    "import logging\n",
    "import random\n",
    "\n",
    "import pandas as pd\n",
    "import numpy as np\n",
    "from sklearn.preprocessing import MinMaxScaler\n",
    "from sklearn.preprocessing import StandardScaler\n",
    "from sklearn.model_selection import train_test_split\n",
    "import tensorflow as tf\n",
    "from tensorflow import keras\n",
    "from keras.models import model_from_json\n",
    "from tensorflow.keras.models import Sequential\n",
    "from tensorflow.keras.layers import Dense\n",
    "from tensorflow.keras.optimizers import SGD\n",
    "from tensorflow.keras.wrappers.scikit_learn import KerasClassifier\n",
    "from tensorflow.keras.wrappers.scikit_learn import KerasRegressor\n",
    "from sklearn.model_selection import GridSearchCV\n",
    "import sklearn"
   ]
  },
  {
   "cell_type": "code",
   "execution_count": 11,
   "metadata": {},
   "outputs": [],
   "source": [
    "df = pd.read_csv('https://raw.githubusercontent.com/Air-BnB-2-BW/data-science/master/airbnb_BW2.csv')"
   ]
  },
  {
   "cell_type": "code",
   "execution_count": 12,
   "metadata": {},
   "outputs": [],
   "source": [
    "dataset = df.values"
   ]
  },
  {
   "cell_type": "code",
   "execution_count": 13,
   "metadata": {},
   "outputs": [],
   "source": [
    "X = dataset[:,0:10]\n",
    "y = dataset[:,10]\n",
    "y = np.reshape(y, (-1,1))\n",
    "scaler_x = MinMaxScaler()\n",
    "scaler_y = MinMaxScaler()"
   ]
  },
  {
   "cell_type": "code",
   "execution_count": 14,
   "metadata": {},
   "outputs": [],
   "source": [
    "scaler_x.fit(X)\n",
    "xscale=scaler_x.transform(X)\n",
    "scaler_y.fit(y)\n",
    "yscale=scaler_y.transform(y)"
   ]
  },
  {
   "cell_type": "code",
   "execution_count": 15,
   "metadata": {},
   "outputs": [],
   "source": [
    "X = StandardScaler().fit_transform(X)\n",
    "y = StandardScaler().fit_transform(y.reshape(len(y),1))[:,0]\n",
    "X_train, X_test, y_train, y_test = train_test_split(xscale, yscale)"
   ]
  },
  {
   "cell_type": "code",
   "execution_count": 16,
   "metadata": {},
   "outputs": [
    {
     "name": "stdout",
     "output_type": "stream",
     "text": [
      "Epoch 1/50\n",
      "1014/1014 [==============================] - 1s 1ms/step - loss: 0.2212 - mse: 0.2212 - mae: 0.4383 - val_loss: 0.2153 - val_mse: 0.2153 - val_mae: 0.4317\n",
      "Epoch 2/50\n",
      "1014/1014 [==============================] - 1s 1ms/step - loss: 0.2133 - mse: 0.2133 - mae: 0.4278 - val_loss: 0.2157 - val_mse: 0.2157 - val_mae: 0.4187\n",
      "Epoch 3/50\n",
      "1014/1014 [==============================] - 1s 853us/step - loss: 0.2127 - mse: 0.2127 - mae: 0.4255 - val_loss: 0.2139 - val_mse: 0.2139 - val_mae: 0.4327\n",
      "Epoch 4/50\n",
      "1014/1014 [==============================] - 1s 1ms/step - loss: 0.2122 - mse: 0.2122 - mae: 0.4244 - val_loss: 0.2137 - val_mse: 0.2137 - val_mae: 0.4247\n",
      "Epoch 5/50\n",
      "1014/1014 [==============================] - 1s 1ms/step - loss: 0.2121 - mse: 0.2121 - mae: 0.4243 - val_loss: 0.2152 - val_mse: 0.2152 - val_mae: 0.4343\n",
      "Epoch 6/50\n",
      "1014/1014 [==============================] - 1s 911us/step - loss: 0.2120 - mse: 0.2120 - mae: 0.4238 - val_loss: 0.2148 - val_mse: 0.2148 - val_mae: 0.4166\n",
      "Epoch 7/50\n",
      "1014/1014 [==============================] - 1s 924us/step - loss: 0.2117 - mse: 0.2117 - mae: 0.4235 - val_loss: 0.2143 - val_mse: 0.2143 - val_mae: 0.4167\n",
      "Epoch 8/50\n",
      "1014/1014 [==============================] - 1s 890us/step - loss: 0.2118 - mse: 0.2118 - mae: 0.4232 - val_loss: 0.2141 - val_mse: 0.2141 - val_mae: 0.4326\n",
      "Epoch 9/50\n",
      "1014/1014 [==============================] - 1s 863us/step - loss: 0.2116 - mse: 0.2116 - mae: 0.4229 - val_loss: 0.2141 - val_mse: 0.2141 - val_mae: 0.4369\n",
      "Epoch 10/50\n",
      "1014/1014 [==============================] - 1s 982us/step - loss: 0.2115 - mse: 0.2115 - mae: 0.4229 - val_loss: 0.2137 - val_mse: 0.2137 - val_mae: 0.4186\n",
      "Epoch 11/50\n",
      "1014/1014 [==============================] - 1s 774us/step - loss: 0.2115 - mse: 0.2115 - mae: 0.4228 - val_loss: 0.2147 - val_mse: 0.2147 - val_mae: 0.4143\n",
      "Epoch 12/50\n",
      "1014/1014 [==============================] - 1s 801us/step - loss: 0.2115 - mse: 0.2115 - mae: 0.4224 - val_loss: 0.2138 - val_mse: 0.2138 - val_mae: 0.4213\n",
      "Epoch 13/50\n",
      "1014/1014 [==============================] - 1s 855us/step - loss: 0.2114 - mse: 0.2114 - mae: 0.4223 - val_loss: 0.2133 - val_mse: 0.2133 - val_mae: 0.4320\n",
      "Epoch 14/50\n",
      "1014/1014 [==============================] - 1s 854us/step - loss: 0.2114 - mse: 0.2114 - mae: 0.4225 - val_loss: 0.2135 - val_mse: 0.2135 - val_mae: 0.4288\n",
      "Epoch 15/50\n",
      "1014/1014 [==============================] - 1s 860us/step - loss: 0.2113 - mse: 0.2113 - mae: 0.4223 - val_loss: 0.2132 - val_mse: 0.2132 - val_mae: 0.4191\n",
      "Epoch 16/50\n",
      "1014/1014 [==============================] - 1s 839us/step - loss: 0.2112 - mse: 0.2112 - mae: 0.4219 - val_loss: 0.2131 - val_mse: 0.2131 - val_mae: 0.4267\n",
      "Epoch 17/50\n",
      "1014/1014 [==============================] - 1s 877us/step - loss: 0.2113 - mse: 0.2113 - mae: 0.4221 - val_loss: 0.2132 - val_mse: 0.2132 - val_mae: 0.4208\n",
      "Epoch 18/50\n",
      "1014/1014 [==============================] - 1s 837us/step - loss: 0.2111 - mse: 0.2111 - mae: 0.4219 - val_loss: 0.2133 - val_mse: 0.2133 - val_mae: 0.4250\n",
      "Epoch 19/50\n",
      "1014/1014 [==============================] - 1s 839us/step - loss: 0.2109 - mse: 0.2109 - mae: 0.4215 - val_loss: 0.2132 - val_mse: 0.2132 - val_mae: 0.4228\n",
      "Epoch 20/50\n",
      "1014/1014 [==============================] - 1s 845us/step - loss: 0.2110 - mse: 0.2110 - mae: 0.4217 - val_loss: 0.2132 - val_mse: 0.2132 - val_mae: 0.4249\n",
      "Epoch 21/50\n",
      "1014/1014 [==============================] - 1s 854us/step - loss: 0.2109 - mse: 0.2109 - mae: 0.4214 - val_loss: 0.2128 - val_mse: 0.2128 - val_mae: 0.4295\n",
      "Epoch 22/50\n",
      "1014/1014 [==============================] - 1s 862us/step - loss: 0.2109 - mse: 0.2109 - mae: 0.4218 - val_loss: 0.2129 - val_mse: 0.2129 - val_mae: 0.4267\n",
      "Epoch 23/50\n",
      "1014/1014 [==============================] - 1s 840us/step - loss: 0.2108 - mse: 0.2108 - mae: 0.4213 - val_loss: 0.2126 - val_mse: 0.2126 - val_mae: 0.4245\n",
      "Epoch 24/50\n",
      "1014/1014 [==============================] - 1s 861us/step - loss: 0.2109 - mse: 0.2109 - mae: 0.4213 - val_loss: 0.2129 - val_mse: 0.2129 - val_mae: 0.4300\n",
      "Epoch 25/50\n",
      "1014/1014 [==============================] - 1s 854us/step - loss: 0.2108 - mse: 0.2108 - mae: 0.4218 - val_loss: 0.2126 - val_mse: 0.2126 - val_mae: 0.4218\n",
      "Epoch 26/50\n",
      "1014/1014 [==============================] - 1s 835us/step - loss: 0.2107 - mse: 0.2107 - mae: 0.4208 - val_loss: 0.2127 - val_mse: 0.2127 - val_mae: 0.4282\n",
      "Epoch 27/50\n",
      "1014/1014 [==============================] - 1s 825us/step - loss: 0.2106 - mse: 0.2106 - mae: 0.4211 - val_loss: 0.2127 - val_mse: 0.2127 - val_mae: 0.4275\n",
      "Epoch 28/50\n",
      "1014/1014 [==============================] - 1s 832us/step - loss: 0.2108 - mse: 0.2108 - mae: 0.4213 - val_loss: 0.2140 - val_mse: 0.2140 - val_mae: 0.4155\n",
      "Epoch 29/50\n",
      "1014/1014 [==============================] - 1s 814us/step - loss: 0.2106 - mse: 0.2106 - mae: 0.4209 - val_loss: 0.2124 - val_mse: 0.2124 - val_mae: 0.4235\n",
      "Epoch 30/50\n",
      "1014/1014 [==============================] - 1s 878us/step - loss: 0.2106 - mse: 0.2106 - mae: 0.4207 - val_loss: 0.2133 - val_mse: 0.2133 - val_mae: 0.4174\n",
      "Epoch 31/50\n",
      "1014/1014 [==============================] - 1s 825us/step - loss: 0.2106 - mse: 0.2106 - mae: 0.4214 - val_loss: 0.2124 - val_mse: 0.2124 - val_mae: 0.4272\n",
      "Epoch 32/50\n",
      "1014/1014 [==============================] - 1s 855us/step - loss: 0.2105 - mse: 0.2105 - mae: 0.4207 - val_loss: 0.2124 - val_mse: 0.2124 - val_mae: 0.4266\n",
      "Epoch 33/50\n",
      "1014/1014 [==============================] - 1s 833us/step - loss: 0.2107 - mse: 0.2107 - mae: 0.4211 - val_loss: 0.2123 - val_mse: 0.2123 - val_mae: 0.4235\n",
      "Epoch 34/50\n",
      "1014/1014 [==============================] - 1s 815us/step - loss: 0.2106 - mse: 0.2106 - mae: 0.4208 - val_loss: 0.2151 - val_mse: 0.2151 - val_mae: 0.4107\n",
      "Epoch 35/50\n",
      "1014/1014 [==============================] - 1s 813us/step - loss: 0.2105 - mse: 0.2105 - mae: 0.4209 - val_loss: 0.2133 - val_mse: 0.2133 - val_mae: 0.4140\n",
      "Epoch 36/50\n",
      "1014/1014 [==============================] - 1s 828us/step - loss: 0.2105 - mse: 0.2105 - mae: 0.4205 - val_loss: 0.2127 - val_mse: 0.2127 - val_mae: 0.4216\n",
      "Epoch 37/50\n",
      "1014/1014 [==============================] - 1s 842us/step - loss: 0.2104 - mse: 0.2104 - mae: 0.4205 - val_loss: 0.2122 - val_mse: 0.2122 - val_mae: 0.4221\n",
      "Epoch 38/50\n",
      "1014/1014 [==============================] - 1s 841us/step - loss: 0.2103 - mse: 0.2103 - mae: 0.4206 - val_loss: 0.2138 - val_mse: 0.2138 - val_mae: 0.4328\n",
      "Epoch 39/50\n",
      "1014/1014 [==============================] - 1s 837us/step - loss: 0.2104 - mse: 0.2104 - mae: 0.4207 - val_loss: 0.2122 - val_mse: 0.2122 - val_mae: 0.4211\n",
      "Epoch 40/50\n",
      "1014/1014 [==============================] - 1s 836us/step - loss: 0.2105 - mse: 0.2105 - mae: 0.4206 - val_loss: 0.2123 - val_mse: 0.2123 - val_mae: 0.4238\n",
      "Epoch 41/50\n",
      "1014/1014 [==============================] - 1s 839us/step - loss: 0.2104 - mse: 0.2104 - mae: 0.4206 - val_loss: 0.2121 - val_mse: 0.2121 - val_mae: 0.4245\n",
      "Epoch 42/50\n",
      "1014/1014 [==============================] - 1s 840us/step - loss: 0.2105 - mse: 0.2105 - mae: 0.4210 - val_loss: 0.2132 - val_mse: 0.2132 - val_mae: 0.4303\n",
      "Epoch 43/50\n",
      "1014/1014 [==============================] - 1s 850us/step - loss: 0.2104 - mse: 0.2104 - mae: 0.4206 - val_loss: 0.2123 - val_mse: 0.2123 - val_mae: 0.4274\n",
      "Epoch 44/50\n",
      "1014/1014 [==============================] - 1s 810us/step - loss: 0.2104 - mse: 0.2104 - mae: 0.4205 - val_loss: 0.2125 - val_mse: 0.2125 - val_mae: 0.4179\n",
      "Epoch 45/50\n",
      "1014/1014 [==============================] - 1s 817us/step - loss: 0.2101 - mse: 0.2101 - mae: 0.4202 - val_loss: 0.2126 - val_mse: 0.2126 - val_mae: 0.4291\n",
      "Epoch 46/50\n",
      "1014/1014 [==============================] - 1s 819us/step - loss: 0.2104 - mse: 0.2104 - mae: 0.4205 - val_loss: 0.2124 - val_mse: 0.2124 - val_mae: 0.4277\n",
      "Epoch 47/50\n",
      "1014/1014 [==============================] - 1s 822us/step - loss: 0.2104 - mse: 0.2104 - mae: 0.4206 - val_loss: 0.2124 - val_mse: 0.2124 - val_mae: 0.4234\n",
      "Epoch 48/50\n",
      "1014/1014 [==============================] - 1s 843us/step - loss: 0.2102 - mse: 0.2102 - mae: 0.4203 - val_loss: 0.2123 - val_mse: 0.2123 - val_mae: 0.4270\n",
      "Epoch 49/50\n",
      "1014/1014 [==============================] - 1s 815us/step - loss: 0.2102 - mse: 0.2102 - mae: 0.4203 - val_loss: 0.2129 - val_mse: 0.2129 - val_mae: 0.4295\n",
      "Epoch 50/50\n",
      "1014/1014 [==============================] - 1s 848us/step - loss: 0.2102 - mse: 0.2102 - mae: 0.4200 - val_loss: 0.2135 - val_mse: 0.2135 - val_mae: 0.4180\n"
     ]
    }
   ],
   "source": [
    "model = Sequential()\n",
    "model.add(Dense(12, input_dim=10, kernel_initializer='normal', activation='relu'))\n",
    "model.add(Dense(8, activation='relu'))\n",
    "model.add(Dense(1, activation='linear'))\n",
    "model.compile(loss='mse', optimizer='adam', metrics=['mse','mae'])\n",
    "history = model.fit(X_train, y_train, epochs=50, batch_size=50,  verbose=1, validation_split=0.2)"
   ]
  },
  {
   "cell_type": "code",
   "execution_count": 17,
   "metadata": {},
   "outputs": [],
   "source": [
    "model.save('keras_nn_model.h5')"
   ]
  },
  {
   "cell_type": "code",
   "execution_count": null,
   "metadata": {},
   "outputs": [],
   "source": []
  }
 ],
 "metadata": {
  "kernelspec": {
   "display_name": "U4-S1_NLP",
   "language": "python",
   "name": "u4-s1_nlp"
  },
  "language_info": {
   "codemirror_mode": {
    "name": "ipython",
    "version": 3
   },
   "file_extension": ".py",
   "mimetype": "text/x-python",
   "name": "python",
   "nbconvert_exporter": "python",
   "pygments_lexer": "ipython3",
   "version": "3.7.0"
  }
 },
 "nbformat": 4,
 "nbformat_minor": 4
}
