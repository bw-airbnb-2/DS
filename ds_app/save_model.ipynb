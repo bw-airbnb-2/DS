{
 "cells": [
  {
   "cell_type": "code",
   "execution_count": 1,
   "metadata": {},
   "outputs": [],
   "source": [
    "import logging\n",
    "import random\n",
    "\n",
    "import pandas as pd\n",
    "import numpy as np\n",
    "from sklearn.preprocessing import MinMaxScaler\n",
    "from sklearn.preprocessing import StandardScaler\n",
    "from sklearn.model_selection import train_test_split\n",
    "import tensorflow as tf\n",
    "from tensorflow import keras\n",
    "from keras.models import model_from_json\n",
    "from tensorflow.keras.models import Sequential\n",
    "from tensorflow.keras.layers import Dense\n",
    "from tensorflow.keras.optimizers import SGD\n",
    "from tensorflow.keras.wrappers.scikit_learn import KerasClassifier\n",
    "from tensorflow.keras.wrappers.scikit_learn import KerasRegressor\n",
    "from sklearn.model_selection import GridSearchCV\n",
    "import sklearn"
   ]
  },
  {
   "cell_type": "code",
   "execution_count": 2,
   "metadata": {},
   "outputs": [],
   "source": [
    "df = pd.read_csv('https://raw.githubusercontent.com/Air-BnB-2-BW/data-science/master/airbnb_BW2.csv')"
   ]
  },
  {
   "cell_type": "code",
   "execution_count": 3,
   "metadata": {},
   "outputs": [],
   "source": [
    "dataset = df.values"
   ]
  },
  {
   "cell_type": "code",
   "execution_count": 4,
   "metadata": {},
   "outputs": [],
   "source": [
    "X = dataset[:,0:12]\n",
    "y = dataset[:,12]\n",
    "y = np.reshape(y, (-1,1))\n",
    "scaler_x = MinMaxScaler()\n",
    "scaler_y = MinMaxScaler()"
   ]
  },
  {
   "cell_type": "code",
   "execution_count": 5,
   "metadata": {},
   "outputs": [],
   "source": [
    "scaler_x.fit(X)\n",
    "xscale=scaler_x.transform(X)\n",
    "scaler_y.fit(y)\n",
    "yscale=scaler_y.transform(y)"
   ]
  },
  {
   "cell_type": "code",
   "execution_count": 6,
   "metadata": {},
   "outputs": [],
   "source": [
    "X = StandardScaler().fit_transform(X)\n",
    "y = StandardScaler().fit_transform(y.reshape(len(y),1))[:,0]\n",
    "X_train, X_test, y_train, y_test = train_test_split(xscale, yscale)"
   ]
  },
  {
   "cell_type": "code",
   "execution_count": 7,
   "metadata": {},
   "outputs": [
    {
     "name": "stdout",
     "output_type": "stream",
     "text": [
      "Epoch 1/50\n",
      "1014/1014 [==============================] - 1s 1ms/step - loss: 0.2283 - mse: 0.2283 - mae: 0.4471 - val_loss: 0.2128 - val_mse: 0.2128 - val_mae: 0.4301\n",
      "Epoch 2/50\n",
      "1014/1014 [==============================] - 1s 1ms/step - loss: 0.2125 - mse: 0.2125 - mae: 0.4259 - val_loss: 0.2114 - val_mse: 0.2114 - val_mae: 0.4244\n",
      "Epoch 3/50\n",
      "1014/1014 [==============================] - 1s 989us/step - loss: 0.2115 - mse: 0.2115 - mae: 0.4226 - val_loss: 0.2104 - val_mse: 0.2104 - val_mae: 0.4233\n",
      "Epoch 4/50\n",
      "1014/1014 [==============================] - 1s 874us/step - loss: 0.2111 - mse: 0.2111 - mae: 0.4219 - val_loss: 0.2119 - val_mse: 0.2119 - val_mae: 0.4277\n",
      "Epoch 5/50\n",
      "1014/1014 [==============================] - 1s 946us/step - loss: 0.2107 - mse: 0.2107 - mae: 0.4209 - val_loss: 0.2106 - val_mse: 0.2106 - val_mae: 0.4207\n",
      "Epoch 6/50\n",
      "1014/1014 [==============================] - 1s 866us/step - loss: 0.2107 - mse: 0.2107 - mae: 0.4208 - val_loss: 0.2109 - val_mse: 0.2109 - val_mae: 0.4301\n",
      "Epoch 7/50\n",
      "1014/1014 [==============================] - 1s 864us/step - loss: 0.2106 - mse: 0.2106 - mae: 0.4209 - val_loss: 0.2101 - val_mse: 0.2101 - val_mae: 0.4157\n",
      "Epoch 8/50\n",
      "1014/1014 [==============================] - 1s 921us/step - loss: 0.2103 - mse: 0.2103 - mae: 0.4202 - val_loss: 0.2102 - val_mse: 0.2102 - val_mae: 0.4139\n",
      "Epoch 9/50\n",
      "1014/1014 [==============================] - 1s 855us/step - loss: 0.2103 - mse: 0.2103 - mae: 0.4199 - val_loss: 0.2094 - val_mse: 0.2094 - val_mae: 0.4203\n",
      "Epoch 10/50\n",
      "1014/1014 [==============================] - 1s 862us/step - loss: 0.2102 - mse: 0.2102 - mae: 0.4199 - val_loss: 0.2105 - val_mse: 0.2105 - val_mae: 0.4170\n",
      "Epoch 11/50\n",
      "1014/1014 [==============================] - 1s 870us/step - loss: 0.2100 - mse: 0.2100 - mae: 0.4199 - val_loss: 0.2092 - val_mse: 0.2092 - val_mae: 0.4188\n",
      "Epoch 12/50\n",
      "1014/1014 [==============================] - 1s 923us/step - loss: 0.2102 - mse: 0.2102 - mae: 0.4196 - val_loss: 0.2108 - val_mse: 0.2108 - val_mae: 0.4122\n",
      "Epoch 13/50\n",
      "1014/1014 [==============================] - 1s 872us/step - loss: 0.2099 - mse: 0.2099 - mae: 0.4194 - val_loss: 0.2093 - val_mse: 0.2093 - val_mae: 0.4223\n",
      "Epoch 14/50\n",
      "1014/1014 [==============================] - 1s 904us/step - loss: 0.2098 - mse: 0.2098 - mae: 0.4190 - val_loss: 0.2092 - val_mse: 0.2092 - val_mae: 0.4182\n",
      "Epoch 15/50\n",
      "1014/1014 [==============================] - 1s 920us/step - loss: 0.2099 - mse: 0.2099 - mae: 0.4197 - val_loss: 0.2095 - val_mse: 0.2095 - val_mae: 0.4222\n",
      "Epoch 16/50\n",
      "1014/1014 [==============================] - 1s 856us/step - loss: 0.2101 - mse: 0.2101 - mae: 0.4196 - val_loss: 0.2098 - val_mse: 0.2098 - val_mae: 0.4176\n",
      "Epoch 17/50\n",
      "1014/1014 [==============================] - 1s 824us/step - loss: 0.2100 - mse: 0.2100 - mae: 0.4196 - val_loss: 0.2091 - val_mse: 0.2091 - val_mae: 0.4207\n",
      "Epoch 18/50\n",
      "1014/1014 [==============================] - 1s 837us/step - loss: 0.2097 - mse: 0.2097 - mae: 0.4192 - val_loss: 0.2100 - val_mse: 0.2100 - val_mae: 0.4099\n",
      "Epoch 19/50\n",
      "1014/1014 [==============================] - 1s 917us/step - loss: 0.2099 - mse: 0.2099 - mae: 0.4191 - val_loss: 0.2092 - val_mse: 0.2092 - val_mae: 0.4190\n",
      "Epoch 20/50\n",
      "1014/1014 [==============================] - 1s 835us/step - loss: 0.2099 - mse: 0.2099 - mae: 0.4190 - val_loss: 0.2092 - val_mse: 0.2092 - val_mae: 0.4221\n",
      "Epoch 21/50\n",
      "1014/1014 [==============================] - 1s 963us/step - loss: 0.2098 - mse: 0.2098 - mae: 0.4194 - val_loss: 0.2117 - val_mse: 0.2117 - val_mae: 0.4074\n",
      "Epoch 22/50\n",
      "1014/1014 [==============================] - 1s 1ms/step - loss: 0.2098 - mse: 0.2098 - mae: 0.4191 - val_loss: 0.2099 - val_mse: 0.2099 - val_mae: 0.4110\n",
      "Epoch 23/50\n",
      "1014/1014 [==============================] - 1s 887us/step - loss: 0.2096 - mse: 0.2096 - mae: 0.4191 - val_loss: 0.2092 - val_mse: 0.2092 - val_mae: 0.4164\n",
      "Epoch 24/50\n",
      "1014/1014 [==============================] - 1s 894us/step - loss: 0.2098 - mse: 0.2098 - mae: 0.4192 - val_loss: 0.2092 - val_mse: 0.2092 - val_mae: 0.4166\n",
      "Epoch 25/50\n",
      "1014/1014 [==============================] - 1s 872us/step - loss: 0.2097 - mse: 0.2097 - mae: 0.4187 - val_loss: 0.2104 - val_mse: 0.2104 - val_mae: 0.4269\n",
      "Epoch 26/50\n",
      "1014/1014 [==============================] - 1s 894us/step - loss: 0.2099 - mse: 0.2099 - mae: 0.4197 - val_loss: 0.2092 - val_mse: 0.2092 - val_mae: 0.4218\n",
      "Epoch 27/50\n",
      "1014/1014 [==============================] - 1s 864us/step - loss: 0.2096 - mse: 0.2096 - mae: 0.4187 - val_loss: 0.2097 - val_mse: 0.2097 - val_mae: 0.4154\n",
      "Epoch 28/50\n",
      "1014/1014 [==============================] - 1s 850us/step - loss: 0.2097 - mse: 0.2097 - mae: 0.4194 - val_loss: 0.2095 - val_mse: 0.2095 - val_mae: 0.4194\n",
      "Epoch 29/50\n",
      "1014/1014 [==============================] - 1s 992us/step - loss: 0.2096 - mse: 0.2096 - mae: 0.4188 - val_loss: 0.2093 - val_mse: 0.2093 - val_mae: 0.4212\n",
      "Epoch 30/50\n",
      "1014/1014 [==============================] - 1s 876us/step - loss: 0.2095 - mse: 0.2095 - mae: 0.4188 - val_loss: 0.2116 - val_mse: 0.2116 - val_mae: 0.4115\n",
      "Epoch 31/50\n",
      "1014/1014 [==============================] - 1s 846us/step - loss: 0.2096 - mse: 0.2096 - mae: 0.4191 - val_loss: 0.2091 - val_mse: 0.2091 - val_mae: 0.4184\n",
      "Epoch 32/50\n",
      "1014/1014 [==============================] - 1s 918us/step - loss: 0.2093 - mse: 0.2093 - mae: 0.4184 - val_loss: 0.2093 - val_mse: 0.2093 - val_mae: 0.4144\n",
      "Epoch 33/50\n",
      "1014/1014 [==============================] - 1s 880us/step - loss: 0.2093 - mse: 0.2093 - mae: 0.4185 - val_loss: 0.2092 - val_mse: 0.2092 - val_mae: 0.4167\n",
      "Epoch 34/50\n",
      "1014/1014 [==============================] - 1s 871us/step - loss: 0.2092 - mse: 0.2092 - mae: 0.4183 - val_loss: 0.2094 - val_mse: 0.2094 - val_mae: 0.4243\n",
      "Epoch 35/50\n",
      "1014/1014 [==============================] - 1s 931us/step - loss: 0.2094 - mse: 0.2094 - mae: 0.4188 - val_loss: 0.2090 - val_mse: 0.2090 - val_mae: 0.4194\n",
      "Epoch 36/50\n",
      "1014/1014 [==============================] - 1s 1ms/step - loss: 0.2093 - mse: 0.2093 - mae: 0.4182 - val_loss: 0.2090 - val_mse: 0.2090 - val_mae: 0.4219\n",
      "Epoch 37/50\n",
      "1014/1014 [==============================] - 1s 911us/step - loss: 0.2093 - mse: 0.2093 - mae: 0.4186 - val_loss: 0.2093 - val_mse: 0.2093 - val_mae: 0.4222\n",
      "Epoch 38/50\n",
      "1014/1014 [==============================] - 1s 871us/step - loss: 0.2093 - mse: 0.2093 - mae: 0.4186 - val_loss: 0.2094 - val_mse: 0.2094 - val_mae: 0.4213\n",
      "Epoch 39/50\n",
      "1014/1014 [==============================] - 1s 930us/step - loss: 0.2091 - mse: 0.2091 - mae: 0.4180 - val_loss: 0.2091 - val_mse: 0.2091 - val_mae: 0.4149\n",
      "Epoch 40/50\n",
      "1014/1014 [==============================] - 1s 900us/step - loss: 0.2093 - mse: 0.2093 - mae: 0.4180 - val_loss: 0.2091 - val_mse: 0.2091 - val_mae: 0.4237\n",
      "Epoch 41/50\n",
      "1014/1014 [==============================] - 1s 1ms/step - loss: 0.2091 - mse: 0.2091 - mae: 0.4183 - val_loss: 0.2089 - val_mse: 0.2089 - val_mae: 0.4198\n",
      "Epoch 42/50\n",
      "1014/1014 [==============================] - 1s 1ms/step - loss: 0.2092 - mse: 0.2092 - mae: 0.4185 - val_loss: 0.2089 - val_mse: 0.2089 - val_mae: 0.4148\n",
      "Epoch 43/50\n",
      "1014/1014 [==============================] - 1s 901us/step - loss: 0.2092 - mse: 0.2092 - mae: 0.4180 - val_loss: 0.2090 - val_mse: 0.2090 - val_mae: 0.4201\n",
      "Epoch 44/50\n",
      "1014/1014 [==============================] - 1s 961us/step - loss: 0.2092 - mse: 0.2092 - mae: 0.4182 - val_loss: 0.2090 - val_mse: 0.2090 - val_mae: 0.4154\n",
      "Epoch 45/50\n",
      "1014/1014 [==============================] - 1s 900us/step - loss: 0.2090 - mse: 0.2090 - mae: 0.4179 - val_loss: 0.2096 - val_mse: 0.2096 - val_mae: 0.4164\n",
      "Epoch 46/50\n",
      "1014/1014 [==============================] - 1s 890us/step - loss: 0.2092 - mse: 0.2092 - mae: 0.4180 - val_loss: 0.2090 - val_mse: 0.2090 - val_mae: 0.4205\n",
      "Epoch 47/50\n",
      "1014/1014 [==============================] - 1s 849us/step - loss: 0.2090 - mse: 0.2090 - mae: 0.4181 - val_loss: 0.2090 - val_mse: 0.2090 - val_mae: 0.4127\n",
      "Epoch 48/50\n",
      "1014/1014 [==============================] - 1s 863us/step - loss: 0.2091 - mse: 0.2091 - mae: 0.4180 - val_loss: 0.2096 - val_mse: 0.2096 - val_mae: 0.4124\n",
      "Epoch 49/50\n",
      "1014/1014 [==============================] - 1s 892us/step - loss: 0.2092 - mse: 0.2092 - mae: 0.4178 - val_loss: 0.2087 - val_mse: 0.2087 - val_mae: 0.4158\n",
      "Epoch 50/50\n",
      "1014/1014 [==============================] - 1s 852us/step - loss: 0.2090 - mse: 0.2090 - mae: 0.4182 - val_loss: 0.2088 - val_mse: 0.2088 - val_mae: 0.4148\n"
     ]
    }
   ],
   "source": [
    "model = Sequential()\n",
    "model.add(Dense(12, input_dim=12, kernel_initializer='normal', activation='relu'))\n",
    "model.add(Dense(8, activation='relu'))\n",
    "model.add(Dense(1, activation='linear'))\n",
    "model.compile(loss='mse', optimizer='adam', metrics=['mse','mae'])\n",
    "history = model.fit(X_train, y_train, epochs=50, batch_size=50,  verbose=1, validation_split=0.2)"
   ]
  },
  {
   "cell_type": "code",
   "execution_count": 8,
   "metadata": {},
   "outputs": [],
   "source": [
    "model.save('keras_nn_model.h5')"
   ]
  },
  {
   "cell_type": "code",
   "execution_count": null,
   "metadata": {},
   "outputs": [],
   "source": []
  }
 ],
 "metadata": {
  "kernelspec": {
   "display_name": "U4-S1_NLP",
   "language": "python",
   "name": "u4-s1_nlp"
  },
  "language_info": {
   "codemirror_mode": {
    "name": "ipython",
    "version": 3
   },
   "file_extension": ".py",
   "mimetype": "text/x-python",
   "name": "python",
   "nbconvert_exporter": "python",
   "pygments_lexer": "ipython3",
   "version": "3.7.0"
  }
 },
 "nbformat": 4,
 "nbformat_minor": 4
}
