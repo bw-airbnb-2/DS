{
 "cells": [
  {
   "cell_type": "code",
   "execution_count": 10,
   "metadata": {},
   "outputs": [],
   "source": [
    "import logging\n",
    "import random\n",
    "\n",
    "import pandas as pd\n",
    "import numpy as np\n",
    "from sklearn.preprocessing import MinMaxScaler\n",
    "from sklearn.preprocessing import StandardScaler\n",
    "from sklearn.model_selection import train_test_split\n",
    "import tensorflow as tf\n",
    "from tensorflow import keras\n",
    "from keras.models import model_from_json\n",
    "from tensorflow.keras.models import Sequential\n",
    "from tensorflow.keras.layers import Dense\n",
    "from tensorflow.keras.optimizers import SGD\n",
    "from tensorflow.keras.wrappers.scikit_learn import KerasClassifier\n",
    "from tensorflow.keras.wrappers.scikit_learn import KerasRegressor\n",
    "from sklearn.model_selection import GridSearchCV\n",
    "import sklearn"
   ]
  },
  {
   "cell_type": "code",
   "execution_count": 34,
   "metadata": {},
   "outputs": [],
   "source": [
    "df = pd.read_csv('/Users/matthewdmeans/Desktop/BWU4/DS/airbnb.csv')"
   ]
  },
  {
   "cell_type": "code",
   "execution_count": 20,
   "metadata": {},
   "outputs": [],
   "source": [
    "df = df.drop(columns=['Prop_encoded', 'cancel_encoded'])"
   ]
  },
  {
   "cell_type": "code",
   "execution_count": 35,
   "metadata": {},
   "outputs": [
    {
     "data": {
      "text/html": [
       "<div>\n",
       "<style scoped>\n",
       "    .dataframe tbody tr th:only-of-type {\n",
       "        vertical-align: middle;\n",
       "    }\n",
       "\n",
       "    .dataframe tbody tr th {\n",
       "        vertical-align: top;\n",
       "    }\n",
       "\n",
       "    .dataframe thead th {\n",
       "        text-align: right;\n",
       "    }\n",
       "</style>\n",
       "<table border=\"1\" class=\"dataframe\">\n",
       "  <thead>\n",
       "    <tr style=\"text-align: right;\">\n",
       "      <th></th>\n",
       "      <th>Unnamed: 0</th>\n",
       "      <th>Zipcode</th>\n",
       "      <th>Square Feet</th>\n",
       "      <th>Bedrooms</th>\n",
       "      <th>Bathrooms</th>\n",
       "      <th>Review Scores Rating</th>\n",
       "      <th>Accommodates</th>\n",
       "      <th>Cleaning Fee</th>\n",
       "      <th>Free Parking</th>\n",
       "      <th>Wireless Internet</th>\n",
       "      <th>Cable TV</th>\n",
       "      <th>Prop_encoded</th>\n",
       "      <th>cancel_encoded</th>\n",
       "      <th>Price</th>\n",
       "    </tr>\n",
       "  </thead>\n",
       "  <tbody>\n",
       "    <tr>\n",
       "      <th>0</th>\n",
       "      <td>0</td>\n",
       "      <td>78704.0</td>\n",
       "      <td>500.000000</td>\n",
       "      <td>1.0</td>\n",
       "      <td>1.0</td>\n",
       "      <td>97.000000</td>\n",
       "      <td>2.0</td>\n",
       "      <td>25.0</td>\n",
       "      <td>1.0</td>\n",
       "      <td>1.0</td>\n",
       "      <td>1.0</td>\n",
       "      <td>1.0</td>\n",
       "      <td>2.0</td>\n",
       "      <td>85.0</td>\n",
       "    </tr>\n",
       "    <tr>\n",
       "      <th>1</th>\n",
       "      <td>1</td>\n",
       "      <td>78704.0</td>\n",
       "      <td>977.818033</td>\n",
       "      <td>2.0</td>\n",
       "      <td>1.0</td>\n",
       "      <td>94.505901</td>\n",
       "      <td>4.0</td>\n",
       "      <td>0.0</td>\n",
       "      <td>1.0</td>\n",
       "      <td>1.0</td>\n",
       "      <td>0.0</td>\n",
       "      <td>1.0</td>\n",
       "      <td>0.0</td>\n",
       "      <td>790.0</td>\n",
       "    </tr>\n",
       "    <tr>\n",
       "      <th>2</th>\n",
       "      <td>2</td>\n",
       "      <td>78704.0</td>\n",
       "      <td>977.818033</td>\n",
       "      <td>1.0</td>\n",
       "      <td>1.0</td>\n",
       "      <td>100.000000</td>\n",
       "      <td>2.0</td>\n",
       "      <td>75.0</td>\n",
       "      <td>1.0</td>\n",
       "      <td>1.0</td>\n",
       "      <td>0.0</td>\n",
       "      <td>1.0</td>\n",
       "      <td>2.0</td>\n",
       "      <td>75.0</td>\n",
       "    </tr>\n",
       "    <tr>\n",
       "      <th>3</th>\n",
       "      <td>3</td>\n",
       "      <td>78704.0</td>\n",
       "      <td>977.818033</td>\n",
       "      <td>1.0</td>\n",
       "      <td>1.0</td>\n",
       "      <td>94.505901</td>\n",
       "      <td>2.0</td>\n",
       "      <td>0.0</td>\n",
       "      <td>1.0</td>\n",
       "      <td>1.0</td>\n",
       "      <td>0.0</td>\n",
       "      <td>1.0</td>\n",
       "      <td>2.0</td>\n",
       "      <td>195.0</td>\n",
       "    </tr>\n",
       "    <tr>\n",
       "      <th>4</th>\n",
       "      <td>4</td>\n",
       "      <td>78704.0</td>\n",
       "      <td>977.818033</td>\n",
       "      <td>1.0</td>\n",
       "      <td>1.0</td>\n",
       "      <td>94.505901</td>\n",
       "      <td>2.0</td>\n",
       "      <td>0.0</td>\n",
       "      <td>1.0</td>\n",
       "      <td>1.0</td>\n",
       "      <td>1.0</td>\n",
       "      <td>1.0</td>\n",
       "      <td>0.0</td>\n",
       "      <td>200.0</td>\n",
       "    </tr>\n",
       "  </tbody>\n",
       "</table>\n",
       "</div>"
      ],
      "text/plain": [
       "   Unnamed: 0  Zipcode  Square Feet  Bedrooms  Bathrooms  \\\n",
       "0           0  78704.0   500.000000       1.0        1.0   \n",
       "1           1  78704.0   977.818033       2.0        1.0   \n",
       "2           2  78704.0   977.818033       1.0        1.0   \n",
       "3           3  78704.0   977.818033       1.0        1.0   \n",
       "4           4  78704.0   977.818033       1.0        1.0   \n",
       "\n",
       "   Review Scores Rating  Accommodates  Cleaning Fee  Free Parking  \\\n",
       "0             97.000000           2.0          25.0           1.0   \n",
       "1             94.505901           4.0           0.0           1.0   \n",
       "2            100.000000           2.0          75.0           1.0   \n",
       "3             94.505901           2.0           0.0           1.0   \n",
       "4             94.505901           2.0           0.0           1.0   \n",
       "\n",
       "   Wireless Internet  Cable TV  Prop_encoded  cancel_encoded  Price  \n",
       "0                1.0       1.0           1.0             2.0   85.0  \n",
       "1                1.0       0.0           1.0             0.0  790.0  \n",
       "2                1.0       0.0           1.0             2.0   75.0  \n",
       "3                1.0       0.0           1.0             2.0  195.0  \n",
       "4                1.0       1.0           1.0             0.0  200.0  "
      ]
     },
     "execution_count": 35,
     "metadata": {},
     "output_type": "execute_result"
    }
   ],
   "source": [
    "df.head()"
   ]
  },
  {
   "cell_type": "code",
   "execution_count": null,
   "metadata": {},
   "outputs": [],
   "source": []
  },
  {
   "cell_type": "code",
   "execution_count": 36,
   "metadata": {},
   "outputs": [],
   "source": [
    "dataset = df.values"
   ]
  },
  {
   "cell_type": "code",
   "execution_count": 37,
   "metadata": {},
   "outputs": [],
   "source": [
    "X = dataset[:,0:10]\n",
    "y = dataset[:,10]\n",
    "y = np.reshape(y, (-1,1))\n",
    "scaler_x = MinMaxScaler()\n",
    "scaler_y = MinMaxScaler()"
   ]
  },
  {
   "cell_type": "code",
   "execution_count": 38,
   "metadata": {},
   "outputs": [],
   "source": [
    "scaler_x.fit(X)\n",
    "xscale=scaler_x.transform(X)\n",
    "scaler_y.fit(y)\n",
    "yscale=scaler_y.transform(y)"
   ]
  },
  {
   "cell_type": "code",
   "execution_count": 39,
   "metadata": {},
   "outputs": [],
   "source": [
    "X = StandardScaler().fit_transform(X)\n",
    "y = StandardScaler().fit_transform(y.reshape(len(y),1))[:,0]\n",
    "X_train, X_test, y_train, y_test = train_test_split(xscale, yscale)"
   ]
  },
  {
   "cell_type": "code",
   "execution_count": 40,
   "metadata": {},
   "outputs": [
    {
     "name": "stdout",
     "output_type": "stream",
     "text": [
      "Epoch 1/50\n",
      "1014/1014 [==============================] - 1s 1ms/step - loss: 0.2209 - mse: 0.2209 - mae: 0.4370 - val_loss: 0.2177 - val_mse: 0.2177 - val_mae: 0.4381ss: 0.2218 - mse: 0.2218 - mae: 0.43\n",
      "Epoch 2/50\n",
      "1014/1014 [==============================] - 1s 1ms/step - loss: 0.2131 - mse: 0.2131 - mae: 0.4269 - val_loss: 0.2160 - val_mse: 0.2160 - val_mae: 0.4275\n",
      "Epoch 3/50\n",
      "1014/1014 [==============================] - 1s 1ms/step - loss: 0.2123 - mse: 0.2123 - mae: 0.4246 - val_loss: 0.2159 - val_mse: 0.2159 - val_mae: 0.4243\n",
      "Epoch 4/50\n",
      "1014/1014 [==============================] - 1s 1ms/step - loss: 0.2120 - mse: 0.2120 - mae: 0.4238 - val_loss: 0.2153 - val_mse: 0.2153 - val_mae: 0.4259\n",
      "Epoch 5/50\n",
      "1014/1014 [==============================] - 1s 1ms/step - loss: 0.2117 - mse: 0.2117 - mae: 0.4237 - val_loss: 0.2160 - val_mse: 0.2160 - val_mae: 0.4340\n",
      "Epoch 6/50\n",
      "1014/1014 [==============================] - 2s 2ms/step - loss: 0.2116 - mse: 0.2116 - mae: 0.4230 - val_loss: 0.2149 - val_mse: 0.2149 - val_mae: 0.4259\n",
      "Epoch 7/50\n",
      "1014/1014 [==============================] - 2s 2ms/step - loss: 0.2115 - mse: 0.2115 - mae: 0.4228 - val_loss: 0.2150 - val_mse: 0.2150 - val_mae: 0.4323\n",
      "Epoch 8/50\n",
      "1014/1014 [==============================] - 1s 1ms/step - loss: 0.2115 - mse: 0.2115 - mae: 0.4229 - val_loss: 0.2146 - val_mse: 0.2146 - val_mae: 0.4282\n",
      "Epoch 9/50\n",
      "1014/1014 [==============================] - 1s 1ms/step - loss: 0.2112 - mse: 0.2112 - mae: 0.4223 - val_loss: 0.2145 - val_mse: 0.2145 - val_mae: 0.4263\n",
      "Epoch 10/50\n",
      "1014/1014 [==============================] - 1s 1ms/step - loss: 0.2111 - mse: 0.2111 - mae: 0.4219 - val_loss: 0.2149 - val_mse: 0.2149 - val_mae: 0.4339\n",
      "Epoch 11/50\n",
      "1014/1014 [==============================] - 1s 1ms/step - loss: 0.2111 - mse: 0.2111 - mae: 0.4222 - val_loss: 0.2144 - val_mse: 0.2144 - val_mae: 0.4283\n",
      "Epoch 12/50\n",
      "1014/1014 [==============================] - 1s 1ms/step - loss: 0.2111 - mse: 0.2111 - mae: 0.4218 - val_loss: 0.2146 - val_mse: 0.2146 - val_mae: 0.4283\n",
      "Epoch 13/50\n",
      "1014/1014 [==============================] - 1s 1ms/step - loss: 0.2109 - mse: 0.2109 - mae: 0.4216 - val_loss: 0.2146 - val_mse: 0.2146 - val_mae: 0.4265\n",
      "Epoch 14/50\n",
      "1014/1014 [==============================] - 1s 1ms/step - loss: 0.2109 - mse: 0.2109 - mae: 0.4214 - val_loss: 0.2149 - val_mse: 0.2149 - val_mae: 0.4222\n",
      "Epoch 15/50\n",
      "1014/1014 [==============================] - 1s 1ms/step - loss: 0.2110 - mse: 0.2110 - mae: 0.4219 - val_loss: 0.2146 - val_mse: 0.2146 - val_mae: 0.4316\n",
      "Epoch 16/50\n",
      "1014/1014 [==============================] - 1s 1ms/step - loss: 0.2110 - mse: 0.2110 - mae: 0.4218 - val_loss: 0.2152 - val_mse: 0.2152 - val_mae: 0.4193\n",
      "Epoch 17/50\n",
      "1014/1014 [==============================] - 1s 1ms/step - loss: 0.2108 - mse: 0.2108 - mae: 0.4215 - val_loss: 0.2146 - val_mse: 0.2146 - val_mae: 0.4230\n",
      "Epoch 18/50\n",
      "1014/1014 [==============================] - 1s 1ms/step - loss: 0.2111 - mse: 0.2111 - mae: 0.4219 - val_loss: 0.2164 - val_mse: 0.2164 - val_mae: 0.4145\n",
      "Epoch 19/50\n",
      "1014/1014 [==============================] - 1s 1ms/step - loss: 0.2109 - mse: 0.2109 - mae: 0.4211 - val_loss: 0.2143 - val_mse: 0.2143 - val_mae: 0.4273\n",
      "Epoch 20/50\n",
      "1014/1014 [==============================] - 1s 1ms/step - loss: 0.2107 - mse: 0.2107 - mae: 0.4215 - val_loss: 0.2146 - val_mse: 0.2146 - val_mae: 0.4273\n",
      "Epoch 21/50\n",
      "1014/1014 [==============================] - 1s 1ms/step - loss: 0.2108 - mse: 0.2108 - mae: 0.4210 - val_loss: 0.2143 - val_mse: 0.2143 - val_mae: 0.4249\n",
      "Epoch 22/50\n",
      "1014/1014 [==============================] - 1s 1ms/step - loss: 0.2108 - mse: 0.2108 - mae: 0.4216 - val_loss: 0.2150 - val_mse: 0.2150 - val_mae: 0.4331\n",
      "Epoch 23/50\n",
      "1014/1014 [==============================] - 1s 1ms/step - loss: 0.2107 - mse: 0.2107 - mae: 0.4213 - val_loss: 0.2143 - val_mse: 0.2143 - val_mae: 0.4226\n",
      "Epoch 24/50\n",
      "1014/1014 [==============================] - 1s 1ms/step - loss: 0.2107 - mse: 0.2107 - mae: 0.4211 - val_loss: 0.2153 - val_mse: 0.2153 - val_mae: 0.4195\n",
      "Epoch 25/50\n",
      "1014/1014 [==============================] - 2s 2ms/step - loss: 0.2107 - mse: 0.2107 - mae: 0.4211 - val_loss: 0.2145 - val_mse: 0.2145 - val_mae: 0.4209\n",
      "Epoch 26/50\n",
      "1014/1014 [==============================] - 1s 1ms/step - loss: 0.2106 - mse: 0.2106 - mae: 0.4208 - val_loss: 0.2140 - val_mse: 0.2140 - val_mae: 0.4282\n",
      "Epoch 27/50\n",
      "1014/1014 [==============================] - 2s 2ms/step - loss: 0.2106 - mse: 0.2106 - mae: 0.4207 - val_loss: 0.2140 - val_mse: 0.2140 - val_mae: 0.4269\n",
      "Epoch 28/50\n",
      "1014/1014 [==============================] - 1s 1ms/step - loss: 0.2105 - mse: 0.2105 - mae: 0.4210 - val_loss: 0.2144 - val_mse: 0.2144 - val_mae: 0.4221\n",
      "Epoch 29/50\n",
      "1014/1014 [==============================] - 1s 1ms/step - loss: 0.2105 - mse: 0.2105 - mae: 0.4207 - val_loss: 0.2145 - val_mse: 0.2145 - val_mae: 0.4226\n",
      "Epoch 30/50\n",
      "1014/1014 [==============================] - 1s 1ms/step - loss: 0.2105 - mse: 0.2105 - mae: 0.4206 - val_loss: 0.2153 - val_mse: 0.2153 - val_mae: 0.4169\n",
      "Epoch 31/50\n",
      "1014/1014 [==============================] - 1s 1ms/step - loss: 0.2106 - mse: 0.2106 - mae: 0.4204 - val_loss: 0.2146 - val_mse: 0.2146 - val_mae: 0.4220\n",
      "Epoch 32/50\n",
      "1014/1014 [==============================] - 2s 2ms/step - loss: 0.2105 - mse: 0.2105 - mae: 0.4206 - val_loss: 0.2147 - val_mse: 0.2147 - val_mae: 0.4329\n",
      "Epoch 33/50\n",
      "1014/1014 [==============================] - 2s 2ms/step - loss: 0.2106 - mse: 0.2106 - mae: 0.4206 - val_loss: 0.2141 - val_mse: 0.2141 - val_mae: 0.4278\n",
      "Epoch 34/50\n",
      "1014/1014 [==============================] - 2s 2ms/step - loss: 0.2105 - mse: 0.2105 - mae: 0.4210 - val_loss: 0.2139 - val_mse: 0.2139 - val_mae: 0.4262\n",
      "Epoch 35/50\n",
      "1014/1014 [==============================] - 1s 1ms/step - loss: 0.2104 - mse: 0.2104 - mae: 0.4206 - val_loss: 0.2141 - val_mse: 0.2141 - val_mae: 0.4218\n",
      "Epoch 36/50\n",
      "1014/1014 [==============================] - 1s 1ms/step - loss: 0.2103 - mse: 0.2103 - mae: 0.4203 - val_loss: 0.2143 - val_mse: 0.2143 - val_mae: 0.4194\n",
      "Epoch 37/50\n",
      "1014/1014 [==============================] - 1s 1ms/step - loss: 0.2105 - mse: 0.2105 - mae: 0.4202 - val_loss: 0.2139 - val_mse: 0.2139 - val_mae: 0.4256\n",
      "Epoch 38/50\n",
      "1014/1014 [==============================] - 1s 1ms/step - loss: 0.2103 - mse: 0.2103 - mae: 0.4202 - val_loss: 0.2142 - val_mse: 0.2142 - val_mae: 0.4257\n",
      "Epoch 39/50\n",
      "1014/1014 [==============================] - 1s 1ms/step - loss: 0.2103 - mse: 0.2103 - mae: 0.4202 - val_loss: 0.2142 - val_mse: 0.2142 - val_mae: 0.4264loss: 0.2090 - mse: 0.2090 - ma\n",
      "Epoch 40/50\n",
      "1014/1014 [==============================] - 1s 1ms/step - loss: 0.2103 - mse: 0.2103 - mae: 0.4200 - val_loss: 0.2138 - val_mse: 0.2138 - val_mae: 0.4240\n",
      "Epoch 41/50\n",
      "1014/1014 [==============================] - 1s 1ms/step - loss: 0.2103 - mse: 0.2103 - mae: 0.4201 - val_loss: 0.2137 - val_mse: 0.2137 - val_mae: 0.4257\n",
      "Epoch 42/50\n",
      "1014/1014 [==============================] - 2s 2ms/step - loss: 0.2103 - mse: 0.2103 - mae: 0.4203 - val_loss: 0.2156 - val_mse: 0.2156 - val_mae: 0.4153\n",
      "Epoch 43/50\n",
      "1014/1014 [==============================] - 2s 2ms/step - loss: 0.2101 - mse: 0.2101 - mae: 0.4202 - val_loss: 0.2140 - val_mse: 0.2140 - val_mae: 0.4214\n",
      "Epoch 44/50\n",
      "1014/1014 [==============================] - 2s 2ms/step - loss: 0.2102 - mse: 0.2102 - mae: 0.4199 - val_loss: 0.2137 - val_mse: 0.2137 - val_mae: 0.4232\n",
      "Epoch 45/50\n",
      "1014/1014 [==============================] - 1s 1ms/step - loss: 0.2103 - mse: 0.2103 - mae: 0.4199 - val_loss: 0.2138 - val_mse: 0.2138 - val_mae: 0.4223\n",
      "Epoch 46/50\n",
      "1014/1014 [==============================] - 1s 1ms/step - loss: 0.2102 - mse: 0.2102 - mae: 0.4199 - val_loss: 0.2139 - val_mse: 0.2139 - val_mae: 0.4222\n",
      "Epoch 47/50\n",
      "1014/1014 [==============================] - 1s 1ms/step - loss: 0.2101 - mse: 0.2101 - mae: 0.4200 - val_loss: 0.2139 - val_mse: 0.2139 - val_mae: 0.4255\n",
      "Epoch 48/50\n",
      "1014/1014 [==============================] - 1s 1ms/step - loss: 0.2102 - mse: 0.2102 - mae: 0.4202 - val_loss: 0.2137 - val_mse: 0.2137 - val_mae: 0.4243\n",
      "Epoch 49/50\n",
      "1014/1014 [==============================] - 2s 1ms/step - loss: 0.2100 - mse: 0.2100 - mae: 0.4196 - val_loss: 0.2137 - val_mse: 0.2137 - val_mae: 0.4220\n",
      "Epoch 50/50\n",
      "1014/1014 [==============================] - 2s 2ms/step - loss: 0.2102 - mse: 0.2102 - mae: 0.4199 - val_loss: 0.2135 - val_mse: 0.2135 - val_mae: 0.4247\n"
     ]
    }
   ],
   "source": [
    "model = Sequential()\n",
    "model.add(Dense(10, input_dim=10, kernel_initializer='normal', activation='relu'))\n",
    "model.add(Dense(8, activation='relu'))\n",
    "model.add(Dense(1, activation='linear'))\n",
    "model.compile(loss='mse', optimizer='adam', metrics=['mse','mae'])\n",
    "history = model.fit(X_train, y_train, epochs=50, batch_size=50,  verbose=1, validation_split=0.2)"
   ]
  },
  {
   "cell_type": "code",
   "execution_count": 27,
   "metadata": {},
   "outputs": [
    {
     "name": "stdout",
     "output_type": "stream",
     "text": [
      "dict_keys(['loss', 'mse', 'mae', 'val_loss', 'val_mse', 'val_mae'])\n"
     ]
    },
    {
     "data": {
      "image/png": "[encoded data removed]",
      "text/plain": [
       "<Figure size 432x288 with 1 Axes>"
      ]
     },
     "metadata": {
      "needs_background": "light"
     },
     "output_type": "display_data"
    }
   ],
   "source": [
    "import matplotlib.pyplot as plt\n",
    "print(history.history.keys())\n",
    "# \"Loss\"\n",
    "plt.plot(history.history['loss'])\n",
    "plt.plot(history.history['val_loss'])\n",
    "plt.title('model loss')\n",
    "plt.ylabel('loss')\n",
    "plt.xlabel('epoch')\n",
    "plt.legend(['train', 'validation'], loc='upper left')\n",
    "plt.show()"
   ]
  },
  {
   "cell_type": "code",
   "execution_count": 41,
   "metadata": {},
   "outputs": [
    {
     "name": "stdout",
     "output_type": "stream",
     "text": [
      "X=[1.0453e+04 1.0000e+03 2.0000e+00 1.0000e+00 9.7000e+01 1.0000e+00\n",
      " 0.0000e+00 1.0000e+00 1.0000e+00 1.0000e+00], Predicted=[0.7606631]\n"
     ]
    }
   ],
   "source": [
    "Xnew = np.array([[10453.0, 1000.0, 2, 1, 97, 1, 0, 1, 1, 1]])\n",
    "Xnew= scaler_x.transform(Xnew)\n",
    "ynew= model.predict(Xnew)\n",
    "#invert normalize\n",
    "ynew = scaler_y.inverse_transform(ynew) \n",
    "Xnew = scaler_x.inverse_transform(Xnew)\n",
    "print(\"X=%s, Predicted=%s\" % (Xnew[0], ynew[0]))"
   ]
  },
  {
   "cell_type": "code",
   "execution_count": 42,
   "metadata": {},
   "outputs": [
    {
     "name": "stdout",
     "output_type": "stream",
     "text": [
      "660/660 [==============================] - 1s 819us/step - loss: 0.2107 - mse: 0.2107 - mae: 0.4222\n"
     ]
    },
    {
     "data": {
      "text/plain": [
       "[0.2107204645872116, 0.2107204645872116, 0.4222387969493866]"
      ]
     },
     "execution_count": 42,
     "metadata": {},
     "output_type": "execute_result"
    }
   ],
   "source": [
    "model.evaluate(X_test, y_test)"
   ]
  },
  {
   "cell_type": "code",
   "execution_count": 43,
   "metadata": {},
   "outputs": [],
   "source": [
    "model.save('keras_nn_model.h5')"
   ]
  },
  {
   "cell_type": "code",
   "execution_count": null,
   "metadata": {},
   "outputs": [],
   "source": []
  }
 ],
 "metadata": {
  "kernelspec": {
   "display_name": "U4-S1_NLP",
   "language": "python",
   "name": "u4-s1_nlp"
  },
  "language_info": {
   "codemirror_mode": {
    "name": "ipython",
    "version": 3
   },
   "file_extension": ".py",
   "mimetype": "text/x-python",
   "name": "python",
   "nbconvert_exporter": "python",
   "pygments_lexer": "ipython3",
   "version": "3.7.0"
  }
 },
 "nbformat": 4,
 "nbformat_minor": 4
}
