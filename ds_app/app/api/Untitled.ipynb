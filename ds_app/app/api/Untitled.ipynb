{
 "cells": [
  {
   "cell_type": "code",
   "execution_count": 7,
   "metadata": {},
   "outputs": [],
   "source": [
    "import random\n",
    "from fastapi import APIRouter\n",
    "import joblib\n",
    "import pandas as pd\n",
    "from pydantic import BaseModel, confloat\n",
    "import logging\n",
    "import random\n",
    "import pandas as pd\n",
    "import numpy as np\n",
    "from fastapi import APIRouter\n",
    "import tensorflow as tf\n",
    "from sklearn.preprocessing import MinMaxScaler\n",
    "from sklearn.preprocessing import StandardScaler\n",
    "from sklearn.model_selection import train_test_split\n",
    "from keras.models import load_model\n",
    "import tensorflow as tf\n",
    "from tensorflow import keras\n",
    "from tensorflow.keras.models import Sequential\n",
    "from tensorflow.keras.layers import Dense\n",
    "from keras.models import load_model\n",
    "import os"
   ]
  },
  {
   "cell_type": "code",
   "execution_count": 21,
   "metadata": {},
   "outputs": [
    {
     "name": "stdout",
     "output_type": "stream",
     "text": [
      "/Users/matthewdmeans/Desktop/BWU4/DS/ds_app/app/api\n"
     ]
    }
   ],
   "source": [
    "print(os.getcwd())"
   ]
  },
  {
   "cell_type": "code",
   "execution_count": 22,
   "metadata": {},
   "outputs": [],
   "source": [
    "model = load_model('../../keras_nn_model.h5')"
   ]
  },
  {
   "cell_type": "code",
   "execution_count": 23,
   "metadata": {},
   "outputs": [
    {
     "name": "stdout",
     "output_type": "stream",
     "text": [
      "X=[1.0453e+04 1.0000e+03 2.0000e+00 1.0000e+00 9.7000e+01 1.0000e+00\n",
      " 0.0000e+00 1.0000e+00 1.0000e+00 1.0000e+00], Predicted=[3.2125428]\n"
     ]
    }
   ],
   "source": [
    "Xnew = np.array([[10453.0, 1000.0, 2, 1, 97, 1, 0, 1, 1, 1]])\n",
    "ynew= model.predict(Xnew)\n",
    "#invert normalize\n",
    "print(\"X=%s, Predicted=%s\" % (Xnew[0], ynew[0]))"
   ]
  },
  {
   "cell_type": "code",
   "execution_count": null,
   "metadata": {},
   "outputs": [],
   "source": [
    "class AirBnB(BaseModel):\n",
    "    \"\"\"Data model to parse & validate airbnb measurements\"\"\"\n",
    "    \n",
    "    zipcode: float = Field(..., example=10453)\n",
    "    property_type: str = Field(..., example='House')\n",
    "    square_footage: float = Field(..., example=4000)\n",
    "    bedrooms: float = Field(..., example=6)\n",
    "    bathrooms: float = Field(..., example=2)\n",
    "    review_score_rating: float = Field(..., example=70)\n",
    "    accommodates: float = Field(..., example=1)\n",
    "    cancellation_policy: str = Field(..., example='moderate')\n",
    "    cleaning_fee: float = Field(..., example=300)\n",
    "    free_parking: str = Field(..., example='yes')\n",
    "    wifi: str = Field(..., example='yes')\n",
    "    cable_tv: str = Field(..., example='yes')\n",
    "\n",
    "    def to_df(self):\n",
    "        \"\"\"Convert pydantic object to pandas dataframe with 1 row.\"\"\"\n"
   ]
  },
  {
   "cell_type": "code",
   "execution_count": null,
   "metadata": {},
   "outputs": [],
   "source": []
  }
 ],
 "metadata": {
  "kernelspec": {
   "display_name": "U4-S1_NLP",
   "language": "python",
   "name": "u4-s1_nlp"
  },
  "language_info": {
   "codemirror_mode": {
    "name": "ipython",
    "version": 3
   },
   "file_extension": ".py",
   "mimetype": "text/x-python",
   "name": "python",
   "nbconvert_exporter": "python",
   "pygments_lexer": "ipython3",
   "version": "3.7.0"
  }
 },
 "nbformat": 4,
 "nbformat_minor": 4
}
