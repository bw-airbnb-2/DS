{
 "cells": [
  {
   "cell_type": "code",
   "execution_count": 1,
   "metadata": {},
   "outputs": [],
   "source": [
    "import logging\n",
    "import random\n",
    "\n",
    "import pandas as pd\n",
    "import numpy as np\n",
    "from sklearn.preprocessing import MinMaxScaler\n",
    "from sklearn.preprocessing import StandardScaler\n",
    "from sklearn.model_selection import train_test_split\n",
    "import tensorflow as tf\n",
    "from tensorflow import keras\n",
    "from keras.models import model_from_json\n",
    "from tensorflow.keras.models import Sequential\n",
    "from tensorflow.keras.layers import Dense\n",
    "from tensorflow.keras.optimizers import SGD\n",
    "from tensorflow.keras.wrappers.scikit_learn import KerasClassifier\n",
    "from tensorflow.keras.wrappers.scikit_learn import KerasRegressor\n",
    "from sklearn.model_selection import GridSearchCV\n",
    "from keras.models import load_model\n",
    "from keras.models import save_model"
   ]
  },
  {
   "cell_type": "code",
   "execution_count": 3,
   "metadata": {},
   "outputs": [],
   "source": [
    "df = pd.read_csv('/Users/matthewdmeans/Desktop/BWU4/DS/airbnb_bw2.csv')"
   ]
  },
  {
   "cell_type": "code",
   "execution_count": 4,
   "metadata": {},
   "outputs": [
    {
     "data": {
      "text/html": [
       "<div>\n",
       "<style scoped>\n",
       "    .dataframe tbody tr th:only-of-type {\n",
       "        vertical-align: middle;\n",
       "    }\n",
       "\n",
       "    .dataframe tbody tr th {\n",
       "        vertical-align: top;\n",
       "    }\n",
       "\n",
       "    .dataframe thead th {\n",
       "        text-align: right;\n",
       "    }\n",
       "</style>\n",
       "<table border=\"1\" class=\"dataframe\">\n",
       "  <thead>\n",
       "    <tr style=\"text-align: right;\">\n",
       "      <th></th>\n",
       "      <th>Unnamed: 0</th>\n",
       "      <th>Zipcode</th>\n",
       "      <th>Square Feet</th>\n",
       "      <th>Bedrooms</th>\n",
       "      <th>Bathrooms</th>\n",
       "      <th>Review Scores Rating</th>\n",
       "      <th>Accommodates</th>\n",
       "      <th>Cleaning Fee</th>\n",
       "      <th>Free Parking</th>\n",
       "      <th>Wireless Internet</th>\n",
       "      <th>Cable TV</th>\n",
       "      <th>Prop_encoded</th>\n",
       "      <th>cancel_encoded</th>\n",
       "      <th>Price</th>\n",
       "    </tr>\n",
       "  </thead>\n",
       "  <tbody>\n",
       "    <tr>\n",
       "      <th>0</th>\n",
       "      <td>0</td>\n",
       "      <td>78704.0</td>\n",
       "      <td>500.000000</td>\n",
       "      <td>1.0</td>\n",
       "      <td>1.0</td>\n",
       "      <td>97.000000</td>\n",
       "      <td>2.0</td>\n",
       "      <td>25.0</td>\n",
       "      <td>1.0</td>\n",
       "      <td>1.0</td>\n",
       "      <td>1.0</td>\n",
       "      <td>1.0</td>\n",
       "      <td>2.0</td>\n",
       "      <td>85.0</td>\n",
       "    </tr>\n",
       "    <tr>\n",
       "      <th>1</th>\n",
       "      <td>1</td>\n",
       "      <td>78704.0</td>\n",
       "      <td>977.818033</td>\n",
       "      <td>2.0</td>\n",
       "      <td>1.0</td>\n",
       "      <td>94.505901</td>\n",
       "      <td>4.0</td>\n",
       "      <td>0.0</td>\n",
       "      <td>1.0</td>\n",
       "      <td>1.0</td>\n",
       "      <td>0.0</td>\n",
       "      <td>1.0</td>\n",
       "      <td>0.0</td>\n",
       "      <td>790.0</td>\n",
       "    </tr>\n",
       "    <tr>\n",
       "      <th>2</th>\n",
       "      <td>2</td>\n",
       "      <td>78704.0</td>\n",
       "      <td>977.818033</td>\n",
       "      <td>1.0</td>\n",
       "      <td>1.0</td>\n",
       "      <td>100.000000</td>\n",
       "      <td>2.0</td>\n",
       "      <td>75.0</td>\n",
       "      <td>1.0</td>\n",
       "      <td>1.0</td>\n",
       "      <td>0.0</td>\n",
       "      <td>1.0</td>\n",
       "      <td>2.0</td>\n",
       "      <td>75.0</td>\n",
       "    </tr>\n",
       "    <tr>\n",
       "      <th>3</th>\n",
       "      <td>3</td>\n",
       "      <td>78704.0</td>\n",
       "      <td>977.818033</td>\n",
       "      <td>1.0</td>\n",
       "      <td>1.0</td>\n",
       "      <td>94.505901</td>\n",
       "      <td>2.0</td>\n",
       "      <td>0.0</td>\n",
       "      <td>1.0</td>\n",
       "      <td>1.0</td>\n",
       "      <td>0.0</td>\n",
       "      <td>1.0</td>\n",
       "      <td>2.0</td>\n",
       "      <td>195.0</td>\n",
       "    </tr>\n",
       "    <tr>\n",
       "      <th>4</th>\n",
       "      <td>4</td>\n",
       "      <td>78704.0</td>\n",
       "      <td>977.818033</td>\n",
       "      <td>1.0</td>\n",
       "      <td>1.0</td>\n",
       "      <td>94.505901</td>\n",
       "      <td>2.0</td>\n",
       "      <td>0.0</td>\n",
       "      <td>1.0</td>\n",
       "      <td>1.0</td>\n",
       "      <td>1.0</td>\n",
       "      <td>1.0</td>\n",
       "      <td>0.0</td>\n",
       "      <td>200.0</td>\n",
       "    </tr>\n",
       "  </tbody>\n",
       "</table>\n",
       "</div>"
      ],
      "text/plain": [
       "   Unnamed: 0  Zipcode  Square Feet  Bedrooms  Bathrooms  \\\n",
       "0           0  78704.0   500.000000       1.0        1.0   \n",
       "1           1  78704.0   977.818033       2.0        1.0   \n",
       "2           2  78704.0   977.818033       1.0        1.0   \n",
       "3           3  78704.0   977.818033       1.0        1.0   \n",
       "4           4  78704.0   977.818033       1.0        1.0   \n",
       "\n",
       "   Review Scores Rating  Accommodates  Cleaning Fee  Free Parking  \\\n",
       "0             97.000000           2.0          25.0           1.0   \n",
       "1             94.505901           4.0           0.0           1.0   \n",
       "2            100.000000           2.0          75.0           1.0   \n",
       "3             94.505901           2.0           0.0           1.0   \n",
       "4             94.505901           2.0           0.0           1.0   \n",
       "\n",
       "   Wireless Internet  Cable TV  Prop_encoded  cancel_encoded  Price  \n",
       "0                1.0       1.0           1.0             2.0   85.0  \n",
       "1                1.0       0.0           1.0             0.0  790.0  \n",
       "2                1.0       0.0           1.0             2.0   75.0  \n",
       "3                1.0       0.0           1.0             2.0  195.0  \n",
       "4                1.0       1.0           1.0             0.0  200.0  "
      ]
     },
     "execution_count": 4,
     "metadata": {},
     "output_type": "execute_result"
    }
   ],
   "source": [
    "df.head()"
   ]
  },
  {
   "cell_type": "code",
   "execution_count": 5,
   "metadata": {},
   "outputs": [],
   "source": [
    "dataset = df.values"
   ]
  },
  {
   "cell_type": "code",
   "execution_count": 6,
   "metadata": {},
   "outputs": [],
   "source": [
    "X = dataset[:,0:12]\n",
    "y = dataset[:,12]\n",
    "y = np.reshape(y, (-1,1))\n",
    "scaler_x = MinMaxScaler()\n",
    "scaler_y = MinMaxScaler()"
   ]
  },
  {
   "cell_type": "code",
   "execution_count": 7,
   "metadata": {},
   "outputs": [],
   "source": [
    "scaler_x.fit(X)\n",
    "xscale=scaler_x.transform(X)\n",
    "scaler_y.fit(y)\n",
    "yscale=scaler_y.transform(y)"
   ]
  },
  {
   "cell_type": "code",
   "execution_count": 8,
   "metadata": {},
   "outputs": [],
   "source": [
    "X = StandardScaler().fit_transform(X)\n",
    "y = StandardScaler().fit_transform(y.reshape(len(y),1))[:,0]\n",
    "X_train, X_test, y_train, y_test = train_test_split(xscale, yscale)"
   ]
  },
  {
   "cell_type": "code",
   "execution_count": 9,
   "metadata": {},
   "outputs": [
    {
     "name": "stdout",
     "output_type": "stream",
     "text": [
      "Epoch 1/100\n",
      "1014/1014 [==============================] - 1s 894us/step - loss: 0.2261 - mse: 0.2261 - mae: 0.4521 - val_loss: 0.2166 - val_mse: 0.2166 - val_mae: 0.4395\n",
      "Epoch 2/100\n",
      "1014/1014 [==============================] - 1s 793us/step - loss: 0.2138 - mse: 0.2138 - mae: 0.4284 - val_loss: 0.2132 - val_mse: 0.2132 - val_mae: 0.4248\n",
      "Epoch 3/100\n",
      "1014/1014 [==============================] - 1s 790us/step - loss: 0.2127 - mse: 0.2127 - mae: 0.4253 - val_loss: 0.2148 - val_mse: 0.2148 - val_mae: 0.4202\n",
      "Epoch 4/100\n",
      "1014/1014 [==============================] - 1s 847us/step - loss: 0.2126 - mse: 0.2126 - mae: 0.4246 - val_loss: 0.2126 - val_mse: 0.2126 - val_mae: 0.4304\n",
      "Epoch 5/100\n",
      "1014/1014 [==============================] - 1s 802us/step - loss: 0.2117 - mse: 0.2117 - mae: 0.4233 - val_loss: 0.2123 - val_mse: 0.2123 - val_mae: 0.4202\n",
      "Epoch 6/100\n",
      "1014/1014 [==============================] - 1s 806us/step - loss: 0.2119 - mse: 0.2119 - mae: 0.4236 - val_loss: 0.2111 - val_mse: 0.2111 - val_mae: 0.4210\n",
      "Epoch 7/100\n",
      "1014/1014 [==============================] - 1s 908us/step - loss: 0.2118 - mse: 0.2118 - mae: 0.4231 - val_loss: 0.2124 - val_mse: 0.2124 - val_mae: 0.4222\n",
      "Epoch 8/100\n",
      "1014/1014 [==============================] - 1s 1ms/step - loss: 0.2116 - mse: 0.2116 - mae: 0.4229 - val_loss: 0.2118 - val_mse: 0.2118 - val_mae: 0.4224\n",
      "Epoch 9/100\n",
      "1014/1014 [==============================] - 1s 1ms/step - loss: 0.2116 - mse: 0.2116 - mae: 0.4227 - val_loss: 0.2117 - val_mse: 0.2117 - val_mae: 0.4210\n",
      "Epoch 10/100\n",
      "1014/1014 [==============================] - 1s 923us/step - loss: 0.2112 - mse: 0.2112 - mae: 0.4223 - val_loss: 0.2109 - val_mse: 0.2109 - val_mae: 0.4227\n",
      "Epoch 11/100\n",
      "1014/1014 [==============================] - 1s 870us/step - loss: 0.2113 - mse: 0.2113 - mae: 0.4226 - val_loss: 0.2107 - val_mse: 0.2107 - val_mae: 0.4200\n",
      "Epoch 12/100\n",
      "1014/1014 [==============================] - 1s 795us/step - loss: 0.2114 - mse: 0.2114 - mae: 0.4224 - val_loss: 0.2107 - val_mse: 0.2107 - val_mae: 0.4217\n",
      "Epoch 13/100\n",
      "1014/1014 [==============================] - 1s 809us/step - loss: 0.2112 - mse: 0.2112 - mae: 0.4223 - val_loss: 0.2112 - val_mse: 0.2112 - val_mae: 0.4185\n",
      "Epoch 14/100\n",
      "1014/1014 [==============================] - 1s 819us/step - loss: 0.2110 - mse: 0.2110 - mae: 0.4215 - val_loss: 0.2105 - val_mse: 0.2105 - val_mae: 0.4251\n",
      "Epoch 15/100\n",
      "1014/1014 [==============================] - 1s 907us/step - loss: 0.2110 - mse: 0.2110 - mae: 0.4217 - val_loss: 0.2109 - val_mse: 0.2109 - val_mae: 0.4251\n",
      "Epoch 16/100\n",
      "1014/1014 [==============================] - 1s 985us/step - loss: 0.2107 - mse: 0.2107 - mae: 0.4214 - val_loss: 0.2121 - val_mse: 0.2121 - val_mae: 0.4199\n",
      "Epoch 17/100\n",
      "1014/1014 [==============================] - 1s 935us/step - loss: 0.2110 - mse: 0.2110 - mae: 0.4218 - val_loss: 0.2107 - val_mse: 0.2107 - val_mae: 0.4190\n",
      "Epoch 18/100\n",
      "1014/1014 [==============================] - 1s 956us/step - loss: 0.2108 - mse: 0.2108 - mae: 0.4210 - val_loss: 0.2104 - val_mse: 0.2104 - val_mae: 0.4232\n",
      "Epoch 19/100\n",
      "1014/1014 [==============================] - 1s 908us/step - loss: 0.2107 - mse: 0.2107 - mae: 0.4213 - val_loss: 0.2128 - val_mse: 0.2128 - val_mae: 0.4164\n",
      "Epoch 20/100\n",
      "1014/1014 [==============================] - 1s 843us/step - loss: 0.2108 - mse: 0.2108 - mae: 0.4212 - val_loss: 0.2132 - val_mse: 0.2132 - val_mae: 0.4151\n",
      "Epoch 21/100\n",
      "1014/1014 [==============================] - 1s 888us/step - loss: 0.2108 - mse: 0.2108 - mae: 0.4214 - val_loss: 0.2101 - val_mse: 0.2101 - val_mae: 0.4203\n",
      "Epoch 22/100\n",
      "1014/1014 [==============================] - 1s 887us/step - loss: 0.2106 - mse: 0.2106 - mae: 0.4211 - val_loss: 0.2101 - val_mse: 0.2101 - val_mae: 0.4202\n",
      "Epoch 23/100\n",
      "1014/1014 [==============================] - 1s 1ms/step - loss: 0.2105 - mse: 0.2105 - mae: 0.4209 - val_loss: 0.2112 - val_mse: 0.2112 - val_mae: 0.4176\n",
      "Epoch 24/100\n",
      "1014/1014 [==============================] - 1s 860us/step - loss: 0.2105 - mse: 0.2105 - mae: 0.4206 - val_loss: 0.2105 - val_mse: 0.2105 - val_mae: 0.4233\n",
      "Epoch 25/100\n",
      "1014/1014 [==============================] - 1s 963us/step - loss: 0.2105 - mse: 0.2105 - mae: 0.4208 - val_loss: 0.2106 - val_mse: 0.2106 - val_mae: 0.4176\n",
      "Epoch 26/100\n",
      "1014/1014 [==============================] - 1s 879us/step - loss: 0.2108 - mse: 0.2108 - mae: 0.4211 - val_loss: 0.2105 - val_mse: 0.2105 - val_mae: 0.4255\n",
      "Epoch 27/100\n",
      "1014/1014 [==============================] - 1s 836us/step - loss: 0.2105 - mse: 0.2105 - mae: 0.4206 - val_loss: 0.2122 - val_mse: 0.2122 - val_mae: 0.4168\n",
      "Epoch 28/100\n",
      "1014/1014 [==============================] - 1s 885us/step - loss: 0.2105 - mse: 0.2105 - mae: 0.4208 - val_loss: 0.2109 - val_mse: 0.2109 - val_mae: 0.4172\n",
      "Epoch 29/100\n",
      "1014/1014 [==============================] - 1s 866us/step - loss: 0.2105 - mse: 0.2105 - mae: 0.4209 - val_loss: 0.2110 - val_mse: 0.2110 - val_mae: 0.4176\n",
      "Epoch 30/100\n",
      "1014/1014 [==============================] - 1s 857us/step - loss: 0.2106 - mse: 0.2106 - mae: 0.4208 - val_loss: 0.2101 - val_mse: 0.2101 - val_mae: 0.4182\n",
      "Epoch 31/100\n",
      "1014/1014 [==============================] - 1s 840us/step - loss: 0.2104 - mse: 0.2104 - mae: 0.4206 - val_loss: 0.2102 - val_mse: 0.2102 - val_mae: 0.4250\n",
      "Epoch 32/100\n",
      "1014/1014 [==============================] - 1s 950us/step - loss: 0.2104 - mse: 0.2104 - mae: 0.4207 - val_loss: 0.2102 - val_mse: 0.2102 - val_mae: 0.4172\n",
      "Epoch 33/100\n",
      "1014/1014 [==============================] - 1s 868us/step - loss: 0.2104 - mse: 0.2104 - mae: 0.4204 - val_loss: 0.2108 - val_mse: 0.2108 - val_mae: 0.4219\n",
      "Epoch 34/100\n",
      "1014/1014 [==============================] - 1s 856us/step - loss: 0.2105 - mse: 0.2105 - mae: 0.4207 - val_loss: 0.2103 - val_mse: 0.2103 - val_mae: 0.4193\n",
      "Epoch 35/100\n",
      "1014/1014 [==============================] - 1s 901us/step - loss: 0.2103 - mse: 0.2103 - mae: 0.4203 - val_loss: 0.2119 - val_mse: 0.2119 - val_mae: 0.4182\n",
      "Epoch 36/100\n",
      "1014/1014 [==============================] - 1s 864us/step - loss: 0.2104 - mse: 0.2104 - mae: 0.4208 - val_loss: 0.2101 - val_mse: 0.2101 - val_mae: 0.4168\n",
      "Epoch 37/100\n",
      "1014/1014 [==============================] - 1s 908us/step - loss: 0.2104 - mse: 0.2104 - mae: 0.4205 - val_loss: 0.2101 - val_mse: 0.2101 - val_mae: 0.4170\n",
      "Epoch 38/100\n",
      "1014/1014 [==============================] - 1s 859us/step - loss: 0.2103 - mse: 0.2103 - mae: 0.4204 - val_loss: 0.2110 - val_mse: 0.2110 - val_mae: 0.4170\n",
      "Epoch 39/100\n",
      "1014/1014 [==============================] - 1s 991us/step - loss: 0.2103 - mse: 0.2103 - mae: 0.4208 - val_loss: 0.2096 - val_mse: 0.2096 - val_mae: 0.4209\n",
      "Epoch 40/100\n",
      "1014/1014 [==============================] - 1s 868us/step - loss: 0.2103 - mse: 0.2103 - mae: 0.4201 - val_loss: 0.2106 - val_mse: 0.2106 - val_mae: 0.4204\n",
      "Epoch 41/100\n",
      "1014/1014 [==============================] - 1s 853us/step - loss: 0.2104 - mse: 0.2104 - mae: 0.4203 - val_loss: 0.2101 - val_mse: 0.2101 - val_mae: 0.4201\n",
      "Epoch 42/100\n",
      "1014/1014 [==============================] - 1s 895us/step - loss: 0.2103 - mse: 0.2103 - mae: 0.4203 - val_loss: 0.2104 - val_mse: 0.2104 - val_mae: 0.4229\n",
      "Epoch 43/100\n",
      "1014/1014 [==============================] - 1s 962us/step - loss: 0.2103 - mse: 0.2103 - mae: 0.4203 - val_loss: 0.2098 - val_mse: 0.2098 - val_mae: 0.4177\n",
      "Epoch 44/100\n",
      "1014/1014 [==============================] - 1s 1ms/step - loss: 0.2103 - mse: 0.2103 - mae: 0.4203 - val_loss: 0.2103 - val_mse: 0.2103 - val_mae: 0.4233\n",
      "Epoch 45/100\n",
      "1014/1014 [==============================] - 1s 1ms/step - loss: 0.2103 - mse: 0.2103 - mae: 0.4203 - val_loss: 0.2103 - val_mse: 0.2103 - val_mae: 0.4257\n",
      "Epoch 46/100\n",
      "1014/1014 [==============================] - 1s 1ms/step - loss: 0.2103 - mse: 0.2103 - mae: 0.4206 - val_loss: 0.2097 - val_mse: 0.2097 - val_mae: 0.4222\n",
      "Epoch 47/100\n",
      "1014/1014 [==============================] - 1s 899us/step - loss: 0.2104 - mse: 0.2104 - mae: 0.4207 - val_loss: 0.2101 - val_mse: 0.2101 - val_mae: 0.4193\n",
      "Epoch 48/100\n",
      "1014/1014 [==============================] - 1s 880us/step - loss: 0.2104 - mse: 0.2104 - mae: 0.4202 - val_loss: 0.2098 - val_mse: 0.2098 - val_mae: 0.4243\n",
      "Epoch 49/100\n",
      "1014/1014 [==============================] - 1s 904us/step - loss: 0.2103 - mse: 0.2103 - mae: 0.4207 - val_loss: 0.2097 - val_mse: 0.2097 - val_mae: 0.4217\n",
      "Epoch 50/100\n",
      "1014/1014 [==============================] - 1s 899us/step - loss: 0.2102 - mse: 0.2102 - mae: 0.4203 - val_loss: 0.2117 - val_mse: 0.2117 - val_mae: 0.4180\n",
      "Epoch 51/100\n",
      "1014/1014 [==============================] - 1s 854us/step - loss: 0.2102 - mse: 0.2102 - mae: 0.4203 - val_loss: 0.2100 - val_mse: 0.2100 - val_mae: 0.4163\n",
      "Epoch 52/100\n",
      "1014/1014 [==============================] - 1s 890us/step - loss: 0.2102 - mse: 0.2102 - mae: 0.4201 - val_loss: 0.2117 - val_mse: 0.2117 - val_mae: 0.4178\n",
      "Epoch 53/100\n",
      "1014/1014 [==============================] - 1s 861us/step - loss: 0.2103 - mse: 0.2103 - mae: 0.4205 - val_loss: 0.2097 - val_mse: 0.2097 - val_mae: 0.4220\n",
      "Epoch 54/100\n",
      "1014/1014 [==============================] - 1s 856us/step - loss: 0.2102 - mse: 0.2102 - mae: 0.4201 - val_loss: 0.2104 - val_mse: 0.2104 - val_mae: 0.4182\n",
      "Epoch 55/100\n",
      "1014/1014 [==============================] - 1s 935us/step - loss: 0.2101 - mse: 0.2101 - mae: 0.4202 - val_loss: 0.2100 - val_mse: 0.2100 - val_mae: 0.4171\n",
      "Epoch 56/100\n",
      "1014/1014 [==============================] - 1s 889us/step - loss: 0.2103 - mse: 0.2103 - mae: 0.4204 - val_loss: 0.2101 - val_mse: 0.2101 - val_mae: 0.4166\n",
      "Epoch 57/100\n",
      "1014/1014 [==============================] - 1s 854us/step - loss: 0.2102 - mse: 0.2102 - mae: 0.4199 - val_loss: 0.2103 - val_mse: 0.2103 - val_mae: 0.4188\n",
      "Epoch 58/100\n",
      "1014/1014 [==============================] - 1s 908us/step - loss: 0.2101 - mse: 0.2101 - mae: 0.4198 - val_loss: 0.2107 - val_mse: 0.2107 - val_mae: 0.4163\n",
      "Epoch 59/100\n",
      "1014/1014 [==============================] - 1s 904us/step - loss: 0.2101 - mse: 0.2101 - mae: 0.4201 - val_loss: 0.2097 - val_mse: 0.2097 - val_mae: 0.4218\n",
      "Epoch 60/100\n",
      "1014/1014 [==============================] - 1s 891us/step - loss: 0.2103 - mse: 0.2103 - mae: 0.4203 - val_loss: 0.2102 - val_mse: 0.2102 - val_mae: 0.4169\n",
      "Epoch 61/100\n",
      "1014/1014 [==============================] - 1s 880us/step - loss: 0.2102 - mse: 0.2102 - mae: 0.4201 - val_loss: 0.2120 - val_mse: 0.2120 - val_mae: 0.4276\n",
      "Epoch 62/100\n",
      "1014/1014 [==============================] - 1s 877us/step - loss: 0.2101 - mse: 0.2101 - mae: 0.4199 - val_loss: 0.2095 - val_mse: 0.2095 - val_mae: 0.4220\n",
      "Epoch 63/100\n",
      "1014/1014 [==============================] - 1s 902us/step - loss: 0.2101 - mse: 0.2101 - mae: 0.4202 - val_loss: 0.2102 - val_mse: 0.2102 - val_mae: 0.4189\n",
      "Epoch 64/100\n",
      "1014/1014 [==============================] - 1s 895us/step - loss: 0.2101 - mse: 0.2101 - mae: 0.4199 - val_loss: 0.2102 - val_mse: 0.2102 - val_mae: 0.4177\n",
      "Epoch 65/100\n",
      "1014/1014 [==============================] - 1s 879us/step - loss: 0.2100 - mse: 0.2100 - mae: 0.4202 - val_loss: 0.2105 - val_mse: 0.2105 - val_mae: 0.4165\n",
      "Epoch 66/100\n",
      "1014/1014 [==============================] - 1s 881us/step - loss: 0.2100 - mse: 0.2100 - mae: 0.4199 - val_loss: 0.2102 - val_mse: 0.2102 - val_mae: 0.4211\n",
      "Epoch 67/100\n",
      "1014/1014 [==============================] - 1s 871us/step - loss: 0.2102 - mse: 0.2102 - mae: 0.4200 - val_loss: 0.2097 - val_mse: 0.2097 - val_mae: 0.4176\n",
      "Epoch 68/100\n",
      "1014/1014 [==============================] - 1s 889us/step - loss: 0.2100 - mse: 0.2100 - mae: 0.4198 - val_loss: 0.2100 - val_mse: 0.2100 - val_mae: 0.4235\n",
      "Epoch 69/100\n",
      "1014/1014 [==============================] - 1s 1ms/step - loss: 0.2101 - mse: 0.2101 - mae: 0.4204 - val_loss: 0.2101 - val_mse: 0.2101 - val_mae: 0.4218\n",
      "Epoch 70/100\n",
      "1014/1014 [==============================] - 1s 1ms/step - loss: 0.2100 - mse: 0.2100 - mae: 0.4195 - val_loss: 0.2097 - val_mse: 0.2097 - val_mae: 0.4251\n",
      "Epoch 71/100\n",
      "1014/1014 [==============================] - 1s 890us/step - loss: 0.2100 - mse: 0.2100 - mae: 0.4200 - val_loss: 0.2102 - val_mse: 0.2102 - val_mae: 0.4232\n",
      "Epoch 72/100\n",
      "1014/1014 [==============================] - 1s 896us/step - loss: 0.2100 - mse: 0.2100 - mae: 0.4199 - val_loss: 0.2096 - val_mse: 0.2096 - val_mae: 0.4195\n",
      "Epoch 73/100\n",
      "1014/1014 [==============================] - 1s 872us/step - loss: 0.2100 - mse: 0.2100 - mae: 0.4199 - val_loss: 0.2097 - val_mse: 0.2097 - val_mae: 0.4163\n",
      "Epoch 74/100\n",
      "1014/1014 [==============================] - 1s 862us/step - loss: 0.2101 - mse: 0.2101 - mae: 0.4197 - val_loss: 0.2094 - val_mse: 0.2094 - val_mae: 0.4227\n",
      "Epoch 75/100\n",
      "1014/1014 [==============================] - 1s 840us/step - loss: 0.2100 - mse: 0.2100 - mae: 0.4201 - val_loss: 0.2097 - val_mse: 0.2097 - val_mae: 0.4187\n",
      "Epoch 76/100\n",
      "1014/1014 [==============================] - 1s 852us/step - loss: 0.2100 - mse: 0.2100 - mae: 0.4200 - val_loss: 0.2096 - val_mse: 0.2096 - val_mae: 0.4188\n",
      "Epoch 77/100\n",
      "1014/1014 [==============================] - 1s 899us/step - loss: 0.2099 - mse: 0.2099 - mae: 0.4195 - val_loss: 0.2096 - val_mse: 0.2096 - val_mae: 0.4195\n",
      "Epoch 78/100\n",
      "1014/1014 [==============================] - 1s 848us/step - loss: 0.2099 - mse: 0.2099 - mae: 0.4192 - val_loss: 0.2097 - val_mse: 0.2097 - val_mae: 0.4184\n",
      "Epoch 79/100\n",
      "1014/1014 [==============================] - 1s 836us/step - loss: 0.2099 - mse: 0.2099 - mae: 0.4202 - val_loss: 0.2095 - val_mse: 0.2095 - val_mae: 0.4195\n",
      "Epoch 80/100\n",
      "1014/1014 [==============================] - 1s 888us/step - loss: 0.2101 - mse: 0.2101 - mae: 0.4201 - val_loss: 0.2103 - val_mse: 0.2103 - val_mae: 0.4139\n",
      "Epoch 81/100\n",
      "1014/1014 [==============================] - 1s 855us/step - loss: 0.2100 - mse: 0.2100 - mae: 0.4195 - val_loss: 0.2098 - val_mse: 0.2098 - val_mae: 0.4215\n",
      "Epoch 82/100\n",
      "1014/1014 [==============================] - 1s 846us/step - loss: 0.2099 - mse: 0.2099 - mae: 0.4196 - val_loss: 0.2101 - val_mse: 0.2101 - val_mae: 0.4221\n",
      "Epoch 83/100\n",
      "1014/1014 [==============================] - 1s 850us/step - loss: 0.2099 - mse: 0.2099 - mae: 0.4198 - val_loss: 0.2097 - val_mse: 0.2097 - val_mae: 0.4196\n",
      "Epoch 84/100\n",
      "1014/1014 [==============================] - 1s 907us/step - loss: 0.2099 - mse: 0.2099 - mae: 0.4195 - val_loss: 0.2095 - val_mse: 0.2095 - val_mae: 0.4154\n",
      "Epoch 85/100\n",
      "1014/1014 [==============================] - 1s 882us/step - loss: 0.2099 - mse: 0.2099 - mae: 0.4195 - val_loss: 0.2111 - val_mse: 0.2111 - val_mae: 0.4194\n",
      "Epoch 86/100\n",
      "1014/1014 [==============================] - 1s 933us/step - loss: 0.2099 - mse: 0.2099 - mae: 0.4201 - val_loss: 0.2095 - val_mse: 0.2095 - val_mae: 0.4188\n",
      "Epoch 87/100\n",
      "1014/1014 [==============================] - 1s 962us/step - loss: 0.2100 - mse: 0.2100 - mae: 0.4197 - val_loss: 0.2099 - val_mse: 0.2099 - val_mae: 0.4224\n",
      "Epoch 88/100\n",
      "1014/1014 [==============================] - 1s 851us/step - loss: 0.2099 - mse: 0.2099 - mae: 0.4197 - val_loss: 0.2106 - val_mse: 0.2106 - val_mae: 0.4140\n",
      "Epoch 89/100\n",
      "1014/1014 [==============================] - 1s 825us/step - loss: 0.2099 - mse: 0.2099 - mae: 0.4194 - val_loss: 0.2099 - val_mse: 0.2099 - val_mae: 0.4229\n",
      "Epoch 90/100\n",
      "1014/1014 [==============================] - 1s 838us/step - loss: 0.2099 - mse: 0.2099 - mae: 0.4196 - val_loss: 0.2118 - val_mse: 0.2118 - val_mae: 0.4175\n",
      "Epoch 91/100\n",
      "1014/1014 [==============================] - 1s 893us/step - loss: 0.2098 - mse: 0.2098 - mae: 0.4194 - val_loss: 0.2103 - val_mse: 0.2103 - val_mae: 0.4217\n",
      "Epoch 92/100\n",
      "1014/1014 [==============================] - 1s 859us/step - loss: 0.2099 - mse: 0.2099 - mae: 0.4198 - val_loss: 0.2112 - val_mse: 0.2112 - val_mae: 0.4204\n",
      "Epoch 93/100\n",
      "1014/1014 [==============================] - 1s 852us/step - loss: 0.2097 - mse: 0.2097 - mae: 0.4194 - val_loss: 0.2097 - val_mse: 0.2097 - val_mae: 0.4197\n",
      "Epoch 94/100\n",
      "1014/1014 [==============================] - 1s 857us/step - loss: 0.2099 - mse: 0.2099 - mae: 0.4197 - val_loss: 0.2114 - val_mse: 0.2114 - val_mae: 0.4124\n",
      "Epoch 95/100\n",
      "1014/1014 [==============================] - 1s 846us/step - loss: 0.2100 - mse: 0.2100 - mae: 0.4197 - val_loss: 0.2097 - val_mse: 0.2097 - val_mae: 0.4218\n",
      "Epoch 96/100\n",
      "1014/1014 [==============================] - 1s 851us/step - loss: 0.2099 - mse: 0.2099 - mae: 0.4194 - val_loss: 0.2094 - val_mse: 0.2094 - val_mae: 0.4227\n",
      "Epoch 97/100\n",
      "1014/1014 [==============================] - 1s 841us/step - loss: 0.2098 - mse: 0.2098 - mae: 0.4194 - val_loss: 0.2098 - val_mse: 0.2098 - val_mae: 0.4196\n",
      "Epoch 98/100\n",
      "1014/1014 [==============================] - 1s 867us/step - loss: 0.2097 - mse: 0.2097 - mae: 0.4192 - val_loss: 0.2093 - val_mse: 0.2093 - val_mae: 0.4195\n",
      "Epoch 99/100\n",
      "1014/1014 [==============================] - 1s 844us/step - loss: 0.2099 - mse: 0.2099 - mae: 0.4199 - val_loss: 0.2104 - val_mse: 0.2104 - val_mae: 0.4148\n",
      "Epoch 100/100\n",
      "1014/1014 [==============================] - 1s 849us/step - loss: 0.2097 - mse: 0.2097 - mae: 0.4193 - val_loss: 0.2094 - val_mse: 0.2094 - val_mae: 0.4182\n"
     ]
    }
   ],
   "source": [
    "model = Sequential()\n",
    "model.add(Dense(12, input_dim=12, kernel_initializer='normal', activation='relu'))\n",
    "model.add(Dense(8, activation='relu'))\n",
    "model.add(Dense(1, activation='linear'))\n",
    "model.compile(loss='mse', optimizer='adam', metrics=['mse','mae'])\n",
    "history = model.fit(X_train, y_train, epochs=100, batch_size=50,  verbose=1, validation_split=0.2)"
   ]
  },
  {
   "cell_type": "code",
   "execution_count": 10,
   "metadata": {},
   "outputs": [
    {
     "name": "stdout",
     "output_type": "stream",
     "text": [
      "dict_keys(['loss', 'mse', 'mae', 'val_loss', 'val_mse', 'val_mae'])\n"
     ]
    },
    {
     "data": {
      "image/png": "[encoded data removed]",
      "text/plain": [
       "<Figure size 432x288 with 1 Axes>"
      ]
     },
     "metadata": {
      "needs_background": "light"
     },
     "output_type": "display_data"
    }
   ],
   "source": [
    "import matplotlib.pyplot as plt\n",
    "print(history.history.keys())\n",
    "# \"Loss\"\n",
    "plt.plot(history.history['loss'])\n",
    "plt.plot(history.history['val_loss'])\n",
    "plt.title('model loss')\n",
    "plt.ylabel('loss')\n",
    "plt.xlabel('epoch')\n",
    "plt.legend(['train', 'validation'], loc='upper left')\n",
    "plt.show()"
   ]
  },
  {
   "cell_type": "code",
   "execution_count": 16,
   "metadata": {},
   "outputs": [
    {
     "name": "stdout",
     "output_type": "stream",
     "text": [
      "X=[1.0453e+04 2.0000e+03 2.0000e+00 1.0000e+00 9.7000e+01 1.0000e+00\n",
      " 0.0000e+00 1.0000e+00 1.0000e+00 1.0000e+00 1.0000e+00 1.0000e+00], Predicted=[0.51625365]\n"
     ]
    }
   ],
   "source": [
    "Xnew = np.array([[10453.0, 2000.0, 2, 1, 97, 1, 0, 1, 1, 1, 1, 1]])\n",
    "Xnew= scaler_x.transform(Xnew)\n",
    "ynew= model.predict(Xnew)\n",
    "#invert normalize\n",
    "ynew = scaler_y.inverse_transform(ynew) \n",
    "Xnew = scaler_x.inverse_transform(Xnew)\n",
    "print(\"X=%s, Predicted=%s\" % (Xnew[0], ynew[0]))"
   ]
  },
  {
   "cell_type": "code",
   "execution_count": 17,
   "metadata": {},
   "outputs": [
    {
     "name": "stdout",
     "output_type": "stream",
     "text": [
      "660/660 [==============================] - 0s 573us/step - loss: 0.2098 - mse: 0.2098 - mae: 0.4189\n"
     ]
    },
    {
     "data": {
      "text/plain": [
       "[0.2097547948360443, 0.2097547948360443, 0.4188624918460846]"
      ]
     },
     "execution_count": 17,
     "metadata": {},
     "output_type": "execute_result"
    }
   ],
   "source": [
    "model.evaluate(X_test, y_test)"
   ]
  },
  {
   "cell_type": "code",
   "execution_count": 18,
   "metadata": {},
   "outputs": [],
   "source": [
    "model.save('keras_nn_model.h5')"
   ]
  },
  {
   "cell_type": "code",
   "execution_count": 19,
   "metadata": {},
   "outputs": [],
   "source": [
    "model = load_model('keras_nn_model.h5')"
   ]
  },
  {
   "cell_type": "code",
   "execution_count": 20,
   "metadata": {},
   "outputs": [
    {
     "data": {
      "text/plain": [
       "array([[551.1604]], dtype=float32)"
      ]
     },
     "execution_count": 20,
     "metadata": {},
     "output_type": "execute_result"
    }
   ],
   "source": [
    "model.predict(Xnew)"
   ]
  },
  {
   "cell_type": "code",
   "execution_count": 21,
   "metadata": {},
   "outputs": [
    {
     "data": {
      "text/plain": [
       "'2.3.0'"
      ]
     },
     "execution_count": 21,
     "metadata": {},
     "output_type": "execute_result"
    }
   ],
   "source": [
    "import tensorflow \n",
    "tensorflow.__version__"
   ]
  },
  {
   "cell_type": "code",
   "execution_count": null,
   "metadata": {},
   "outputs": [],
   "source": []
  }
 ],
 "metadata": {
  "kernelspec": {
   "display_name": "U4-S1_NLP",
   "language": "python",
   "name": "u4-s1_nlp"
  },
  "language_info": {
   "codemirror_mode": {
    "name": "ipython",
    "version": 3
   },
   "file_extension": ".py",
   "mimetype": "text/x-python",
   "name": "python",
   "nbconvert_exporter": "python",
   "pygments_lexer": "ipython3",
   "version": "3.7.0"
  }
 },
 "nbformat": 4,
 "nbformat_minor": 4
}
